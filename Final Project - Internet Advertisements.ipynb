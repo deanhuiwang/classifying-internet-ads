{
 "cells": [
  {
   "cell_type": "markdown",
   "metadata": {},
   "source": [
    "# W207 Final Project: Internet Advertisements\n",
    "Maria Corina Cabezas, Dean Wang, Angel Chen "
   ]
  },
  {
   "cell_type": "markdown",
   "metadata": {},
   "source": [
    "## Background"
   ]
  },
  {
   "cell_type": "markdown",
   "metadata": {},
   "source": [
    "The project seeks to investigate the topic of Internet Advertisements with the goal of using Machine Learning algortihms to predict whether an image is an advertisement (\"ad\") or not (\"non-ad\"). An effective ad-identification algorithm could help with spam filtering in e-mails and other messages (SMS, social media, etc.). It can also be applied to website ad blocking for a better internet browsing experience. \n",
    "\n",
    "The Internet Advertisement dataset used in this analysis comes from the UCI Machine Learning Repository. It represents a set of possible advertisements on Internet pages. The features encode the geometry of the image (if available) as well as phrases occuring in the URL, the image's URL and alt text, the anchor text, and words occurring near the anchor text. \n",
    "\n",
    "The full dataset can be downloaded and viewed here: https://archive.ics.uci.edu/ml/datasets/Internet+Advertisements."
   ]
  },
  {
   "cell_type": "markdown",
   "metadata": {},
   "source": [
    "### Prerequisite Libraries"
   ]
  },
  {
   "cell_type": "code",
   "execution_count": 1,
   "metadata": {},
   "outputs": [],
   "source": [
    "# This tells matplotlib not to try opening a new window for each plot.\n",
    "%matplotlib inline\n",
    "\n",
    "# General libraries.\n",
    "import re\n",
    "import numpy as np\n",
    "import pandas as pd\n",
    "import seaborn as sns\n",
    "import matplotlib.pyplot as plt\n",
    "\n",
    "# SK-learn libraries for learning.\n",
    "from sklearn.pipeline import Pipeline\n",
    "from sklearn.neighbors import KNeighborsClassifier\n",
    "from sklearn.svm import SVC\n",
    "from sklearn.linear_model import LogisticRegression\n",
    "from sklearn.naive_bayes import BernoulliNB\n",
    "from sklearn.naive_bayes import MultinomialNB\n",
    "from sklearn.tree import DecisionTreeClassifier\n",
    "from sklearn.ensemble import RandomForestClassifier\n",
    "from sklearn.ensemble import BaggingClassifier\n",
    "from sklearn.model_selection import GridSearchCV\n",
    "from sklearn.model_selection import train_test_split\n",
    "\n",
    "# SK-learn libraries for evaluation.\n",
    "from sklearn.metrics import confusion_matrix\n",
    "from sklearn import metrics\n",
    "from sklearn.metrics import classification_report\n",
    "from sklearn import model_selection\n",
    "\n",
    "# Set the randomizer seed so results are the same each time.\n",
    "np.random.seed(0)\n",
    "\n",
    "import warnings\n",
    "warnings.filterwarnings('ignore')"
   ]
  },
  {
   "cell_type": "markdown",
   "metadata": {},
   "source": [
    "## Data Exploration & Analysis"
   ]
  },
  {
   "cell_type": "markdown",
   "metadata": {},
   "source": [
    "Before any modeling effort commences, we first looked through the dataset in order to have some basic understanding of what the rows and columns represent. This data exploration step helps us to gain intuition about features we can use in subsequent analysis. "
   ]
  },
  {
   "cell_type": "markdown",
   "metadata": {},
   "source": [
    "### Data Cleaning"
   ]
  },
  {
   "cell_type": "markdown",
   "metadata": {},
   "source": [
    "Here we loaded the dataset into the variable `df` and added in column names. There are a total of 3,279 data points and 1,559 attritubes per entry. Based on the documentation of the dataset, 3 out of the 1,559 columns are continuous while the rest are binary. However not every data point has a complete set of 1,559 attributes. Some contain missing values for one or more of the 3 continuous columns. We replaced `?` with proper missing value representation - `NAN` - for these column values."
   ]
  },
  {
   "cell_type": "code",
   "execution_count": 2,
   "metadata": {},
   "outputs": [],
   "source": [
    "# Load the dataset\n",
    "df = pd.read_csv('ad.data', header = None)"
   ]
  },
  {
   "cell_type": "code",
   "execution_count": 3,
   "metadata": {},
   "outputs": [],
   "source": [
    "# Load column names\n",
    "names = []\n",
    "with open(\"ad.names\", encoding=\"ISO-8859-1\") as file:\n",
    "    for line in file:\n",
    "        if \":\" in line and \"|\" not in line:\n",
    "            names.append(line[:line.index(\":\")])\n",
    "            \n",
    "names.append(\"class\")"
   ]
  },
  {
   "cell_type": "code",
   "execution_count": 4,
   "metadata": {},
   "outputs": [],
   "source": [
    "# Format column values as integers\n",
    "df.columns = df.columns.astype('int')"
   ]
  },
  {
   "cell_type": "code",
   "execution_count": 5,
   "metadata": {},
   "outputs": [
    {
     "name": "stdout",
     "output_type": "stream",
     "text": [
      "<class 'pandas.core.frame.DataFrame'>\n",
      "RangeIndex: 3279 entries, 0 to 3278\n",
      "Columns: 1559 entries, 0 to 1558\n",
      "dtypes: int64(1554), object(5)\n",
      "memory usage: 39.0+ MB\n"
     ]
    }
   ],
   "source": [
    "# Get basic information about the dataset\n",
    "df.info()"
   ]
  },
  {
   "cell_type": "code",
   "execution_count": 6,
   "metadata": {},
   "outputs": [],
   "source": [
    "# Cleaning\n",
    "# We would like to replace missing values and \"?\" values in the first four columns which contain\n",
    "# missing values\n",
    "def replace_missing(df):\n",
    "    for i in df:\n",
    "        df[i]=df[i].replace('[?]',np.NAN,regex=True).astype('float')\n",
    "        df[i]=df[i].fillna(df[i].mean())\n",
    "    return df\n",
    "\n",
    "df[[0,1,2,3]]=replace_missing(df.iloc[:,[0,1,2,3]].copy()).values"
   ]
  },
  {
   "cell_type": "code",
   "execution_count": 7,
   "metadata": {},
   "outputs": [],
   "source": [
    "df.columns = names"
   ]
  },
  {
   "cell_type": "code",
   "execution_count": 8,
   "metadata": {},
   "outputs": [
    {
     "data": {
      "text/html": [
       "<div>\n",
       "<style scoped>\n",
       "    .dataframe tbody tr th:only-of-type {\n",
       "        vertical-align: middle;\n",
       "    }\n",
       "\n",
       "    .dataframe tbody tr th {\n",
       "        vertical-align: top;\n",
       "    }\n",
       "\n",
       "    .dataframe thead th {\n",
       "        text-align: right;\n",
       "    }\n",
       "</style>\n",
       "<table border=\"1\" class=\"dataframe\">\n",
       "  <thead>\n",
       "    <tr style=\"text-align: right;\">\n",
       "      <th></th>\n",
       "      <th>height</th>\n",
       "      <th>width</th>\n",
       "      <th>aratio</th>\n",
       "    </tr>\n",
       "  </thead>\n",
       "  <tbody>\n",
       "    <tr>\n",
       "      <th>count</th>\n",
       "      <td>3279.000000</td>\n",
       "      <td>3279.000000</td>\n",
       "      <td>3279.000000</td>\n",
       "    </tr>\n",
       "    <tr>\n",
       "      <th>mean</th>\n",
       "      <td>64.021886</td>\n",
       "      <td>155.344828</td>\n",
       "      <td>3.911953</td>\n",
       "    </tr>\n",
       "    <tr>\n",
       "      <th>std</th>\n",
       "      <td>46.703695</td>\n",
       "      <td>110.729038</td>\n",
       "      <td>5.136153</td>\n",
       "    </tr>\n",
       "    <tr>\n",
       "      <th>min</th>\n",
       "      <td>1.000000</td>\n",
       "      <td>1.000000</td>\n",
       "      <td>0.001500</td>\n",
       "    </tr>\n",
       "    <tr>\n",
       "      <th>25%</th>\n",
       "      <td>32.500000</td>\n",
       "      <td>90.000000</td>\n",
       "      <td>1.279400</td>\n",
       "    </tr>\n",
       "    <tr>\n",
       "      <th>50%</th>\n",
       "      <td>64.021886</td>\n",
       "      <td>150.000000</td>\n",
       "      <td>3.911953</td>\n",
       "    </tr>\n",
       "    <tr>\n",
       "      <th>75%</th>\n",
       "      <td>64.021886</td>\n",
       "      <td>155.344828</td>\n",
       "      <td>3.911953</td>\n",
       "    </tr>\n",
       "    <tr>\n",
       "      <th>max</th>\n",
       "      <td>640.000000</td>\n",
       "      <td>640.000000</td>\n",
       "      <td>60.000000</td>\n",
       "    </tr>\n",
       "  </tbody>\n",
       "</table>\n",
       "</div>"
      ],
      "text/plain": [
       "            height        width       aratio\n",
       "count  3279.000000  3279.000000  3279.000000\n",
       "mean     64.021886   155.344828     3.911953\n",
       "std      46.703695   110.729038     5.136153\n",
       "min       1.000000     1.000000     0.001500\n",
       "25%      32.500000    90.000000     1.279400\n",
       "50%      64.021886   150.000000     3.911953\n",
       "75%      64.021886   155.344828     3.911953\n",
       "max     640.000000   640.000000    60.000000"
      ]
     },
     "execution_count": 8,
     "metadata": {},
     "output_type": "execute_result"
    }
   ],
   "source": [
    "# Data distribution for the 3 continuous variables\n",
    "df[names[:3]].describe()"
   ]
  },
  {
   "cell_type": "markdown",
   "metadata": {},
   "source": [
    "### Data Analysis"
   ]
  },
  {
   "cell_type": "markdown",
   "metadata": {},
   "source": [
    "After data cleaning, we conducted more in depth analysis of some of the interesting features in the dataset, namely the 3 continuous columns `height`, `width`, `aratio`, and the label `class`. Values of `height` and `width` represent the dimension of the image while `aratio` describes the aspect ratio. `class` is the label of the data point denoting whether or not that particular image is \"ad\" or \"non-ad\". We plotted below the distribution of \"ad\" and \"non-ad\" data points as well as the boxplots of 3 continuous variables for the 2 class type."
   ]
  },
  {
   "cell_type": "code",
   "execution_count": 9,
   "metadata": {},
   "outputs": [
    {
     "data": {
      "text/html": [
       "<div>\n",
       "<style scoped>\n",
       "    .dataframe tbody tr th:only-of-type {\n",
       "        vertical-align: middle;\n",
       "    }\n",
       "\n",
       "    .dataframe tbody tr th {\n",
       "        vertical-align: top;\n",
       "    }\n",
       "\n",
       "    .dataframe thead th {\n",
       "        text-align: right;\n",
       "    }\n",
       "</style>\n",
       "<table border=\"1\" class=\"dataframe\">\n",
       "  <thead>\n",
       "    <tr style=\"text-align: right;\">\n",
       "      <th></th>\n",
       "      <th>height</th>\n",
       "      <th>width</th>\n",
       "      <th>aratio</th>\n",
       "      <th>local</th>\n",
       "      <th>url*images+buttons</th>\n",
       "      <th>url*likesbooks.com</th>\n",
       "      <th>url*www.slake.com</th>\n",
       "      <th>url*hydrogeologist</th>\n",
       "      <th>url*oso</th>\n",
       "      <th>url*media</th>\n",
       "      <th>...</th>\n",
       "      <th>caption*home</th>\n",
       "      <th>caption*my</th>\n",
       "      <th>caption*your</th>\n",
       "      <th>caption*in</th>\n",
       "      <th>caption*bytes</th>\n",
       "      <th>caption*here</th>\n",
       "      <th>caption*click</th>\n",
       "      <th>caption*for</th>\n",
       "      <th>caption*you</th>\n",
       "      <th>class</th>\n",
       "    </tr>\n",
       "  </thead>\n",
       "  <tbody>\n",
       "    <tr>\n",
       "      <th>0</th>\n",
       "      <td>125.0</td>\n",
       "      <td>125.0</td>\n",
       "      <td>1.0000</td>\n",
       "      <td>1.0</td>\n",
       "      <td>0</td>\n",
       "      <td>0</td>\n",
       "      <td>0</td>\n",
       "      <td>0</td>\n",
       "      <td>0</td>\n",
       "      <td>0</td>\n",
       "      <td>...</td>\n",
       "      <td>0</td>\n",
       "      <td>0</td>\n",
       "      <td>0</td>\n",
       "      <td>0</td>\n",
       "      <td>0</td>\n",
       "      <td>0</td>\n",
       "      <td>0</td>\n",
       "      <td>0</td>\n",
       "      <td>0</td>\n",
       "      <td>ad.</td>\n",
       "    </tr>\n",
       "    <tr>\n",
       "      <th>1</th>\n",
       "      <td>57.0</td>\n",
       "      <td>468.0</td>\n",
       "      <td>8.2105</td>\n",
       "      <td>1.0</td>\n",
       "      <td>0</td>\n",
       "      <td>0</td>\n",
       "      <td>0</td>\n",
       "      <td>0</td>\n",
       "      <td>0</td>\n",
       "      <td>0</td>\n",
       "      <td>...</td>\n",
       "      <td>0</td>\n",
       "      <td>0</td>\n",
       "      <td>0</td>\n",
       "      <td>0</td>\n",
       "      <td>0</td>\n",
       "      <td>0</td>\n",
       "      <td>0</td>\n",
       "      <td>0</td>\n",
       "      <td>0</td>\n",
       "      <td>ad.</td>\n",
       "    </tr>\n",
       "    <tr>\n",
       "      <th>2</th>\n",
       "      <td>33.0</td>\n",
       "      <td>230.0</td>\n",
       "      <td>6.9696</td>\n",
       "      <td>1.0</td>\n",
       "      <td>0</td>\n",
       "      <td>0</td>\n",
       "      <td>0</td>\n",
       "      <td>0</td>\n",
       "      <td>0</td>\n",
       "      <td>0</td>\n",
       "      <td>...</td>\n",
       "      <td>0</td>\n",
       "      <td>0</td>\n",
       "      <td>0</td>\n",
       "      <td>0</td>\n",
       "      <td>0</td>\n",
       "      <td>0</td>\n",
       "      <td>0</td>\n",
       "      <td>0</td>\n",
       "      <td>0</td>\n",
       "      <td>ad.</td>\n",
       "    </tr>\n",
       "    <tr>\n",
       "      <th>3</th>\n",
       "      <td>60.0</td>\n",
       "      <td>468.0</td>\n",
       "      <td>7.8000</td>\n",
       "      <td>1.0</td>\n",
       "      <td>0</td>\n",
       "      <td>0</td>\n",
       "      <td>0</td>\n",
       "      <td>0</td>\n",
       "      <td>0</td>\n",
       "      <td>0</td>\n",
       "      <td>...</td>\n",
       "      <td>0</td>\n",
       "      <td>0</td>\n",
       "      <td>0</td>\n",
       "      <td>0</td>\n",
       "      <td>0</td>\n",
       "      <td>0</td>\n",
       "      <td>0</td>\n",
       "      <td>0</td>\n",
       "      <td>0</td>\n",
       "      <td>ad.</td>\n",
       "    </tr>\n",
       "    <tr>\n",
       "      <th>4</th>\n",
       "      <td>60.0</td>\n",
       "      <td>468.0</td>\n",
       "      <td>7.8000</td>\n",
       "      <td>1.0</td>\n",
       "      <td>0</td>\n",
       "      <td>0</td>\n",
       "      <td>0</td>\n",
       "      <td>0</td>\n",
       "      <td>0</td>\n",
       "      <td>0</td>\n",
       "      <td>...</td>\n",
       "      <td>0</td>\n",
       "      <td>0</td>\n",
       "      <td>0</td>\n",
       "      <td>0</td>\n",
       "      <td>0</td>\n",
       "      <td>0</td>\n",
       "      <td>0</td>\n",
       "      <td>0</td>\n",
       "      <td>0</td>\n",
       "      <td>ad.</td>\n",
       "    </tr>\n",
       "  </tbody>\n",
       "</table>\n",
       "<p>5 rows × 1559 columns</p>\n",
       "</div>"
      ],
      "text/plain": [
       "   height  width  aratio  local  url*images+buttons  url*likesbooks.com  \\\n",
       "0   125.0  125.0  1.0000    1.0                   0                   0   \n",
       "1    57.0  468.0  8.2105    1.0                   0                   0   \n",
       "2    33.0  230.0  6.9696    1.0                   0                   0   \n",
       "3    60.0  468.0  7.8000    1.0                   0                   0   \n",
       "4    60.0  468.0  7.8000    1.0                   0                   0   \n",
       "\n",
       "   url*www.slake.com  url*hydrogeologist  url*oso  url*media  ...  \\\n",
       "0                  0                   0        0          0  ...   \n",
       "1                  0                   0        0          0  ...   \n",
       "2                  0                   0        0          0  ...   \n",
       "3                  0                   0        0          0  ...   \n",
       "4                  0                   0        0          0  ...   \n",
       "\n",
       "   caption*home  caption*my  caption*your  caption*in  caption*bytes  \\\n",
       "0             0           0             0           0              0   \n",
       "1             0           0             0           0              0   \n",
       "2             0           0             0           0              0   \n",
       "3             0           0             0           0              0   \n",
       "4             0           0             0           0              0   \n",
       "\n",
       "   caption*here  caption*click  caption*for  caption*you  class  \n",
       "0             0              0            0            0    ad.  \n",
       "1             0              0            0            0    ad.  \n",
       "2             0              0            0            0    ad.  \n",
       "3             0              0            0            0    ad.  \n",
       "4             0              0            0            0    ad.  \n",
       "\n",
       "[5 rows x 1559 columns]"
      ]
     },
     "execution_count": 9,
     "metadata": {},
     "output_type": "execute_result"
    }
   ],
   "source": [
    "df.head()"
   ]
  },
  {
   "cell_type": "code",
   "execution_count": 10,
   "metadata": {},
   "outputs": [
    {
     "data": {
      "text/plain": [
       "nonad.    2820\n",
       "ad.        459\n",
       "Name: class, dtype: int64"
      ]
     },
     "execution_count": 10,
     "metadata": {},
     "output_type": "execute_result"
    },
    {
     "data": {
      "image/png": "[encoded data removed]",
      "text/plain": [
       "<Figure size 432x288 with 1 Axes>"
      ]
     },
     "metadata": {
      "needs_background": "light"
     },
     "output_type": "display_data"
    }
   ],
   "source": [
    "# Class Distribution\n",
    "sns.countplot(df['class'])\n",
    "plt.title('Distribution of Images')\n",
    "df['class'].value_counts()"
   ]
  },
  {
   "cell_type": "markdown",
   "metadata": {},
   "source": [
    "Here we can observe the data is not equally distributed among the 2 classes. Over 88% of the examples are Non-Ads."
   ]
  },
  {
   "cell_type": "code",
   "execution_count": 11,
   "metadata": {},
   "outputs": [
    {
     "data": {
      "text/plain": [
       "Text(0, 0.5, 'Width')"
      ]
     },
     "execution_count": 11,
     "metadata": {},
     "output_type": "execute_result"
    },
    {
     "data": {
      "image/png": "[encoded data removed]",
      "text/plain": [
       "<Figure size 720x576 with 1 Axes>"
      ]
     },
     "metadata": {
      "needs_background": "light"
     },
     "output_type": "display_data"
    }
   ],
   "source": [
    "# Central tendency of width for each target\n",
    "plt.figure(figsize=(10,8))\n",
    "sns.boxplot(x = 'class',y = 'width', data = df)\n",
    "plt.title('Central Tendency of Width for Ad and NonAd Images')\n",
    "plt.xlabel('Target')\n",
    "plt.ylabel('Width')"
   ]
  },
  {
   "cell_type": "markdown",
   "metadata": {},
   "source": [
    "This graph shows how the central tendency of width differs over the two classes: Ad images tend to have a higher width between 150 - 500 cm while Non-Ad images tend to be smaller in width averaging over 80 - 150 cm."
   ]
  },
  {
   "cell_type": "code",
   "execution_count": 12,
   "metadata": {},
   "outputs": [
    {
     "data": {
      "text/plain": [
       "Text(0, 0.5, 'Height')"
      ]
     },
     "execution_count": 12,
     "metadata": {},
     "output_type": "execute_result"
    },
    {
     "data": {
      "image/png": "[encoded data removed]",
      "text/plain": [
       "<Figure size 720x576 with 1 Axes>"
      ]
     },
     "metadata": {
      "needs_background": "light"
     },
     "output_type": "display_data"
    }
   ],
   "source": [
    "# Central Tendency of Height for each target\n",
    "plt.figure(figsize=(10,8))\n",
    "sns.boxplot(x = 'class',y = 'height', data = df)\n",
    "plt.title('Central Tendency of Height for Ad and NonAd Images')\n",
    "plt.xlabel('Target')\n",
    "plt.ylabel('Height')"
   ]
  },
  {
   "cell_type": "markdown",
   "metadata": {},
   "source": [
    "When it comes to height, the difference is not as big as with width; We can see that Ad images tend to be around 60-65 cm while Non-Ad images have a wider height range of 40-60 cm."
   ]
  },
  {
   "cell_type": "code",
   "execution_count": 13,
   "metadata": {},
   "outputs": [
    {
     "data": {
      "text/plain": [
       "Text(0, 0.5, 'Ratio')"
      ]
     },
     "execution_count": 13,
     "metadata": {},
     "output_type": "execute_result"
    },
    {
     "data": {
      "image/png": "[encoded data removed]",
      "text/plain": [
       "<Figure size 720x576 with 1 Axes>"
      ]
     },
     "metadata": {
      "needs_background": "light"
     },
     "output_type": "display_data"
    }
   ],
   "source": [
    "# Central Tendency of Ratio for each target (If the image is a perfect square is 1)\n",
    "plt.figure(figsize=(10,8))\n",
    "sns.boxplot(x = 'class',y = 'aratio', data = df)\n",
    "plt.title('Central Tendency of Aspect Ratio for Ad and NonAd Images')\n",
    "plt.xlabel('Target')\n",
    "plt.ylabel('Ratio')"
   ]
  },
  {
   "cell_type": "markdown",
   "metadata": {},
   "source": [
    "As for the aspect ratio, we do not see a distinct differences between the distribution for Ad and Non-ad images either but `aratio` does tend to be slightly smaller for nonads. "
   ]
  },
  {
   "cell_type": "code",
   "execution_count": 14,
   "metadata": {},
   "outputs": [
    {
     "data": {
      "text/plain": [
       "<seaborn.axisgrid.PairGrid at 0x1201958d0>"
      ]
     },
     "execution_count": 14,
     "metadata": {},
     "output_type": "execute_result"
    },
    {
     "data": {
      "image/png": "[encoded data removed]",
      "text/plain": [
       "<Figure size 1366.5x1296 with 12 Axes>"
      ]
     },
     "metadata": {
      "needs_background": "light"
     },
     "output_type": "display_data"
    }
   ],
   "source": [
    "# let's see how variables relate to each other\n",
    "sns.pairplot(data= df[['height', 'width','aratio','class']], hue = 'class', markers=[\"o\", \"s\"], height = 6, plot_kws={'alpha':0.3})\n"
   ]
  },
  {
   "cell_type": "markdown",
   "metadata": {},
   "source": [
    "We don't find any special relationship besides the positive relation between height and width that we would expect for both classes. "
   ]
  },
  {
   "cell_type": "markdown",
   "metadata": {},
   "source": [
    "We now look to further investigate the categorical variables in this dataset. In particular, we have many indicator variables for words or website addresses appearing in the url, original url, anchor url, alt and caption part of the image, e.g. `url*likesbooks.com`, `origurl*puc.edu`, `ancurl*www.slake.com`, `alt*your`, `caption*home`, etc. Here below we examine how prevalent each of these features is in Ad and Non-ad images."
   ]
  },
  {
   "cell_type": "code",
   "execution_count": 15,
   "metadata": {},
   "outputs": [
    {
     "data": {
      "text/plain": [
       "Text(0, 0.5, 'Number of Urls')"
      ]
     },
     "execution_count": 15,
     "metadata": {},
     "output_type": "execute_result"
    },
    {
     "data": {
      "image/png": "[encoded data removed]",
      "text/plain": [
       "<Figure size 720x576 with 1 Axes>"
      ]
     },
     "metadata": {
      "needs_background": "light"
     },
     "output_type": "display_data"
    }
   ],
   "source": [
    "urls = df[list(filter(lambda x: x.startswith(\"url\") or x == \"class\", names))]\n",
    "num_urls = 457 - urls.eq(0).sum(axis=1)\n",
    "urls.loc[:,'num_urls'] = num_urls\n",
    "\n",
    "plt.figure(figsize=(10,8))\n",
    "sns.boxplot(x = 'class',y = 'num_urls', data = urls)\n",
    "plt.title('Central Tendency of Number of Urls for Ad and NonAd Images')\n",
    "plt.xlabel('Target')\n",
    "plt.ylabel('Number of Urls')"
   ]
  },
  {
   "cell_type": "markdown",
   "metadata": {},
   "source": [
    "There are 457 different url related variables in the dataset. The boxplot above shows that the number of urls per image among ad and non-ad images has similar distributions. Below are lists of the top 10 most frequent values in the urls for ads and non-ads."
   ]
  },
  {
   "cell_type": "code",
   "execution_count": 16,
   "metadata": {},
   "outputs": [
    {
     "data": {
      "text/html": [
       "<div>\n",
       "<style scoped>\n",
       "    .dataframe tbody tr th:only-of-type {\n",
       "        vertical-align: middle;\n",
       "    }\n",
       "\n",
       "    .dataframe tbody tr th {\n",
       "        vertical-align: top;\n",
       "    }\n",
       "\n",
       "    .dataframe thead th {\n",
       "        text-align: right;\n",
       "    }\n",
       "</style>\n",
       "<table border=\"1\" class=\"dataframe\">\n",
       "  <thead>\n",
       "    <tr style=\"text-align: right;\">\n",
       "      <th>class</th>\n",
       "      <th>ad.</th>\n",
       "      <th>percentage</th>\n",
       "    </tr>\n",
       "  </thead>\n",
       "  <tbody>\n",
       "    <tr>\n",
       "      <th>url*ads</th>\n",
       "      <td>146</td>\n",
       "      <td>31.808279</td>\n",
       "    </tr>\n",
       "    <tr>\n",
       "      <th>url*images</th>\n",
       "      <td>130</td>\n",
       "      <td>28.322440</td>\n",
       "    </tr>\n",
       "    <tr>\n",
       "      <th>url*ad</th>\n",
       "      <td>49</td>\n",
       "      <td>10.675381</td>\n",
       "    </tr>\n",
       "    <tr>\n",
       "      <th>url*graphics</th>\n",
       "      <td>39</td>\n",
       "      <td>8.496732</td>\n",
       "    </tr>\n",
       "    <tr>\n",
       "      <th>url*ng</th>\n",
       "      <td>36</td>\n",
       "      <td>7.843137</td>\n",
       "    </tr>\n",
       "    <tr>\n",
       "      <th>url*image</th>\n",
       "      <td>35</td>\n",
       "      <td>7.625272</td>\n",
       "    </tr>\n",
       "    <tr>\n",
       "      <th>url*media</th>\n",
       "      <td>30</td>\n",
       "      <td>6.535948</td>\n",
       "    </tr>\n",
       "    <tr>\n",
       "      <th>url*ads+media</th>\n",
       "      <td>30</td>\n",
       "      <td>6.535948</td>\n",
       "    </tr>\n",
       "    <tr>\n",
       "      <th>url*geocities.com</th>\n",
       "      <td>30</td>\n",
       "      <td>6.535948</td>\n",
       "    </tr>\n",
       "    <tr>\n",
       "      <th>url*www.geocities.com</th>\n",
       "      <td>30</td>\n",
       "      <td>6.535948</td>\n",
       "    </tr>\n",
       "  </tbody>\n",
       "</table>\n",
       "</div>"
      ],
      "text/plain": [
       "class                  ad.  percentage\n",
       "url*ads                146   31.808279\n",
       "url*images             130   28.322440\n",
       "url*ad                  49   10.675381\n",
       "url*graphics            39    8.496732\n",
       "url*ng                  36    7.843137\n",
       "url*image               35    7.625272\n",
       "url*media               30    6.535948\n",
       "url*ads+media           30    6.535948\n",
       "url*geocities.com       30    6.535948\n",
       "url*www.geocities.com   30    6.535948"
      ]
     },
     "execution_count": 16,
     "metadata": {},
     "output_type": "execute_result"
    }
   ],
   "source": [
    "ad_urls = (urls.iloc[:, :458].groupby(\"class\").sum())[:1].T\n",
    "nonad_urls = (urls.iloc[:, :458].groupby(\"class\").sum())[1:2].T\n",
    "\n",
    "# top 10 urls for ad\n",
    "ad_urls.loc[:, \"percentage\"] = ad_urls.apply(lambda row: row['ad.']/459*100, axis=1)\n",
    "ad_urls.nlargest(10, \"percentage\")"
   ]
  },
  {
   "cell_type": "code",
   "execution_count": 17,
   "metadata": {},
   "outputs": [
    {
     "data": {
      "text/html": [
       "<div>\n",
       "<style scoped>\n",
       "    .dataframe tbody tr th:only-of-type {\n",
       "        vertical-align: middle;\n",
       "    }\n",
       "\n",
       "    .dataframe tbody tr th {\n",
       "        vertical-align: top;\n",
       "    }\n",
       "\n",
       "    .dataframe thead th {\n",
       "        text-align: right;\n",
       "    }\n",
       "</style>\n",
       "<table border=\"1\" class=\"dataframe\">\n",
       "  <thead>\n",
       "    <tr style=\"text-align: right;\">\n",
       "      <th>class</th>\n",
       "      <th>nonad.</th>\n",
       "      <th>percentage</th>\n",
       "    </tr>\n",
       "  </thead>\n",
       "  <tbody>\n",
       "    <tr>\n",
       "      <th>url*images</th>\n",
       "      <td>814</td>\n",
       "      <td>28.865248</td>\n",
       "    </tr>\n",
       "    <tr>\n",
       "      <th>url*geocities.com</th>\n",
       "      <td>551</td>\n",
       "      <td>19.539007</td>\n",
       "    </tr>\n",
       "    <tr>\n",
       "      <th>url*www.geocities.com</th>\n",
       "      <td>551</td>\n",
       "      <td>19.539007</td>\n",
       "    </tr>\n",
       "    <tr>\n",
       "      <th>url*images+geoguideii</th>\n",
       "      <td>189</td>\n",
       "      <td>6.702128</td>\n",
       "    </tr>\n",
       "    <tr>\n",
       "      <th>url*geoguideii</th>\n",
       "      <td>189</td>\n",
       "      <td>6.702128</td>\n",
       "    </tr>\n",
       "    <tr>\n",
       "      <th>url*heartland</th>\n",
       "      <td>171</td>\n",
       "      <td>6.063830</td>\n",
       "    </tr>\n",
       "    <tr>\n",
       "      <th>url*b+gif</th>\n",
       "      <td>130</td>\n",
       "      <td>4.609929</td>\n",
       "    </tr>\n",
       "    <tr>\n",
       "      <th>url*aol.com</th>\n",
       "      <td>89</td>\n",
       "      <td>3.156028</td>\n",
       "    </tr>\n",
       "    <tr>\n",
       "      <th>url*www.globec.com.au</th>\n",
       "      <td>88</td>\n",
       "      <td>3.120567</td>\n",
       "    </tr>\n",
       "    <tr>\n",
       "      <th>url*tkaine</th>\n",
       "      <td>88</td>\n",
       "      <td>3.120567</td>\n",
       "    </tr>\n",
       "  </tbody>\n",
       "</table>\n",
       "</div>"
      ],
      "text/plain": [
       "class                  nonad.  percentage\n",
       "url*images                814   28.865248\n",
       "url*geocities.com         551   19.539007\n",
       "url*www.geocities.com     551   19.539007\n",
       "url*images+geoguideii     189    6.702128\n",
       "url*geoguideii            189    6.702128\n",
       "url*heartland             171    6.063830\n",
       "url*b+gif                 130    4.609929\n",
       "url*aol.com                89    3.156028\n",
       "url*www.globec.com.au      88    3.120567\n",
       "url*tkaine                 88    3.120567"
      ]
     },
     "execution_count": 17,
     "metadata": {},
     "output_type": "execute_result"
    }
   ],
   "source": [
    "# top 10 urls for non-ad\n",
    "nonad_urls.loc[:, \"percentage\"] = nonad_urls.apply(lambda row: row['nonad.']/2820*100, axis=1)\n",
    "nonad_urls.nlargest(10, \"percentage\")"
   ]
  },
  {
   "cell_type": "markdown",
   "metadata": {},
   "source": [
    "Even though the number of urls per image doesn't differ much between ad and non-ad images, the actual content of the url seems to spread less even among the two groups. Specifically, `url*ads` is the No.1 url indicator variables for ad images whereas the same indicator variable does not make the top 10 for non-ads. On the other hand, `url*images` is just as prevalent in ads and non-ads. We could use these information to do feature selection such that only url variables that have distinct differents are used for modeling."
   ]
  },
  {
   "cell_type": "code",
   "execution_count": 18,
   "metadata": {},
   "outputs": [
    {
     "data": {
      "text/plain": [
       "Text(0, 0.5, 'Number of Origurls')"
      ]
     },
     "execution_count": 18,
     "metadata": {},
     "output_type": "execute_result"
    },
    {
     "data": {
      "image/png": "[encoded data removed]",
      "text/plain": [
       "<Figure size 720x576 with 1 Axes>"
      ]
     },
     "metadata": {
      "needs_background": "light"
     },
     "output_type": "display_data"
    }
   ],
   "source": [
    "origurls = df[list(filter(lambda x: x.startswith(\"origurl\") or x == \"class\", names))]\n",
    "num_origurls = 495 - origurls.eq(0).sum(axis=1)\n",
    "origurls.loc[:,'num_origurls'] = num_origurls\n",
    "\n",
    "plt.figure(figsize=(10,8))\n",
    "sns.boxplot(x = 'class',y = 'num_origurls', data = origurls)\n",
    "plt.title('Central Tendency of Number of Origurls for Ad and NonAd Images')\n",
    "plt.xlabel('Target')\n",
    "plt.ylabel('Number of Origurls')"
   ]
  },
  {
   "cell_type": "markdown",
   "metadata": {},
   "source": [
    "There are 495 unique origurl features. Comparing to the url variables analyzed above, the distributions for number of origurls per image do differ slightly between ad and non-ad images. However we do not see a clear separation of the boxplot ranges, thus the difference is not drastic enough to make classification determinations. "
   ]
  },
  {
   "cell_type": "code",
   "execution_count": 19,
   "metadata": {},
   "outputs": [
    {
     "data": {
      "text/html": [
       "<div>\n",
       "<style scoped>\n",
       "    .dataframe tbody tr th:only-of-type {\n",
       "        vertical-align: middle;\n",
       "    }\n",
       "\n",
       "    .dataframe tbody tr th {\n",
       "        vertical-align: top;\n",
       "    }\n",
       "\n",
       "    .dataframe thead th {\n",
       "        text-align: right;\n",
       "    }\n",
       "</style>\n",
       "<table border=\"1\" class=\"dataframe\">\n",
       "  <thead>\n",
       "    <tr style=\"text-align: right;\">\n",
       "      <th>class</th>\n",
       "      <th>ad.</th>\n",
       "      <th>percentage</th>\n",
       "    </tr>\n",
       "  </thead>\n",
       "  <tbody>\n",
       "    <tr>\n",
       "      <th>origurl*bin</th>\n",
       "      <td>36</td>\n",
       "      <td>7.843137</td>\n",
       "    </tr>\n",
       "    <tr>\n",
       "      <th>origurl*geocities.com</th>\n",
       "      <td>30</td>\n",
       "      <td>6.535948</td>\n",
       "    </tr>\n",
       "    <tr>\n",
       "      <th>origurl*www.geocities.com</th>\n",
       "      <td>30</td>\n",
       "      <td>6.535948</td>\n",
       "    </tr>\n",
       "    <tr>\n",
       "      <th>origurl*index</th>\n",
       "      <td>27</td>\n",
       "      <td>5.882353</td>\n",
       "    </tr>\n",
       "    <tr>\n",
       "      <th>origurl*search</th>\n",
       "      <td>23</td>\n",
       "      <td>5.010893</td>\n",
       "    </tr>\n",
       "    <tr>\n",
       "      <th>origurl*asp</th>\n",
       "      <td>22</td>\n",
       "      <td>4.793028</td>\n",
       "    </tr>\n",
       "    <tr>\n",
       "      <th>origurl*st</th>\n",
       "      <td>18</td>\n",
       "      <td>3.921569</td>\n",
       "    </tr>\n",
       "    <tr>\n",
       "      <th>origurl*news</th>\n",
       "      <td>18</td>\n",
       "      <td>3.921569</td>\n",
       "    </tr>\n",
       "    <tr>\n",
       "      <th>origurl*excite.com</th>\n",
       "      <td>18</td>\n",
       "      <td>3.921569</td>\n",
       "    </tr>\n",
       "    <tr>\n",
       "      <th>origurl*netscape.com</th>\n",
       "      <td>18</td>\n",
       "      <td>3.921569</td>\n",
       "    </tr>\n",
       "  </tbody>\n",
       "</table>\n",
       "</div>"
      ],
      "text/plain": [
       "class                      ad.  percentage\n",
       "origurl*bin                 36    7.843137\n",
       "origurl*geocities.com       30    6.535948\n",
       "origurl*www.geocities.com   30    6.535948\n",
       "origurl*index               27    5.882353\n",
       "origurl*search              23    5.010893\n",
       "origurl*asp                 22    4.793028\n",
       "origurl*st                  18    3.921569\n",
       "origurl*news                18    3.921569\n",
       "origurl*excite.com          18    3.921569\n",
       "origurl*netscape.com        18    3.921569"
      ]
     },
     "execution_count": 19,
     "metadata": {},
     "output_type": "execute_result"
    }
   ],
   "source": [
    "ad_origurls = (origurls.iloc[:, :496].groupby(\"class\").sum())[:1].T\n",
    "nonad_origurls = (origurls.iloc[:, :496].groupby(\"class\").sum())[1:2].T\n",
    "\n",
    "# top 10 origurls for ad\n",
    "ad_origurls.loc[:, \"percentage\"] = ad_origurls.apply(lambda row: row['ad.']/459*100, axis=1)\n",
    "ad_origurls.nlargest(10, \"percentage\")"
   ]
  },
  {
   "cell_type": "code",
   "execution_count": 20,
   "metadata": {},
   "outputs": [
    {
     "data": {
      "text/html": [
       "<div>\n",
       "<style scoped>\n",
       "    .dataframe tbody tr th:only-of-type {\n",
       "        vertical-align: middle;\n",
       "    }\n",
       "\n",
       "    .dataframe tbody tr th {\n",
       "        vertical-align: top;\n",
       "    }\n",
       "\n",
       "    .dataframe thead th {\n",
       "        text-align: right;\n",
       "    }\n",
       "</style>\n",
       "<table border=\"1\" class=\"dataframe\">\n",
       "  <thead>\n",
       "    <tr style=\"text-align: right;\">\n",
       "      <th>class</th>\n",
       "      <th>nonad.</th>\n",
       "      <th>percentage</th>\n",
       "    </tr>\n",
       "  </thead>\n",
       "  <tbody>\n",
       "    <tr>\n",
       "      <th>origurl*geocities.com</th>\n",
       "      <td>576</td>\n",
       "      <td>20.425532</td>\n",
       "    </tr>\n",
       "    <tr>\n",
       "      <th>origurl*www.geocities.com</th>\n",
       "      <td>576</td>\n",
       "      <td>20.425532</td>\n",
       "    </tr>\n",
       "    <tr>\n",
       "      <th>origurl*heartland</th>\n",
       "      <td>265</td>\n",
       "      <td>9.397163</td>\n",
       "    </tr>\n",
       "    <tr>\n",
       "      <th>origurl*index</th>\n",
       "      <td>229</td>\n",
       "      <td>8.120567</td>\n",
       "    </tr>\n",
       "    <tr>\n",
       "      <th>origurl*index+html</th>\n",
       "      <td>194</td>\n",
       "      <td>6.879433</td>\n",
       "    </tr>\n",
       "    <tr>\n",
       "      <th>origurl*valley</th>\n",
       "      <td>105</td>\n",
       "      <td>3.723404</td>\n",
       "    </tr>\n",
       "    <tr>\n",
       "      <th>origurl*heartland+valley</th>\n",
       "      <td>105</td>\n",
       "      <td>3.723404</td>\n",
       "    </tr>\n",
       "    <tr>\n",
       "      <th>origurl*aol.com</th>\n",
       "      <td>93</td>\n",
       "      <td>3.297872</td>\n",
       "    </tr>\n",
       "    <tr>\n",
       "      <th>origurl*www.globec.com.au</th>\n",
       "      <td>88</td>\n",
       "      <td>3.120567</td>\n",
       "    </tr>\n",
       "    <tr>\n",
       "      <th>origurl*tkaine</th>\n",
       "      <td>88</td>\n",
       "      <td>3.120567</td>\n",
       "    </tr>\n",
       "  </tbody>\n",
       "</table>\n",
       "</div>"
      ],
      "text/plain": [
       "class                      nonad.  percentage\n",
       "origurl*geocities.com         576   20.425532\n",
       "origurl*www.geocities.com     576   20.425532\n",
       "origurl*heartland             265    9.397163\n",
       "origurl*index                 229    8.120567\n",
       "origurl*index+html            194    6.879433\n",
       "origurl*valley                105    3.723404\n",
       "origurl*heartland+valley      105    3.723404\n",
       "origurl*aol.com                93    3.297872\n",
       "origurl*www.globec.com.au      88    3.120567\n",
       "origurl*tkaine                 88    3.120567"
      ]
     },
     "execution_count": 20,
     "metadata": {},
     "output_type": "execute_result"
    }
   ],
   "source": [
    "# top 10 origurls for non-ad\n",
    "nonad_origurls.loc[:, \"percentage\"] = nonad_origurls.apply(lambda row: row['nonad.']/2820*100, axis=1)\n",
    "nonad_origurls.nlargest(10, \"percentage\")"
   ]
  },
  {
   "cell_type": "markdown",
   "metadata": {},
   "source": [
    "Looking at the top 10 most frequent origurl variables for ads and non-ads, we see very litte overlaps. This is interesting because the contents of the orignal don't seem particularly indicative of ads and nonads on first glance. Next, we do the same analysis for anchor urls."
   ]
  },
  {
   "cell_type": "code",
   "execution_count": 21,
   "metadata": {},
   "outputs": [
    {
     "data": {
      "text/plain": [
       "Text(0, 0.5, 'Number of Ancurls')"
      ]
     },
     "execution_count": 21,
     "metadata": {},
     "output_type": "execute_result"
    },
    {
     "data": {
      "image/png": "[encoded data removed]",
      "text/plain": [
       "<Figure size 720x576 with 1 Axes>"
      ]
     },
     "metadata": {
      "needs_background": "light"
     },
     "output_type": "display_data"
    }
   ],
   "source": [
    "ancurls = df[list(filter(lambda x: x.startswith(\"ancurl\") or x == \"class\", names))]\n",
    "num_ancurls = 472 - ancurls.eq(0).sum(axis=1)\n",
    "ancurls.loc[:,'num_ancurls'] = num_ancurls\n",
    "\n",
    "plt.figure(figsize=(10,8))\n",
    "sns.boxplot(x = 'class',y = 'num_ancurls', data = ancurls)\n",
    "plt.title('Central Tendency of Number of Ancurls for Ad and NonAd Images')\n",
    "plt.xlabel('Target')\n",
    "plt.ylabel('Number of Ancurls')"
   ]
  },
  {
   "cell_type": "markdown",
   "metadata": {},
   "source": [
    "There are 472 anchor url features in the dataset and here we do see a clear separation between the number of anchor urls per image between ad and non-ad images. It appears that the presence of more anchor text increases the likelihood that an image is an ad. Hence, we should try to add `num_ancurls` as an extra feature into the dataset for subsequent modeling."
   ]
  },
  {
   "cell_type": "code",
   "execution_count": 22,
   "metadata": {},
   "outputs": [
    {
     "data": {
      "text/html": [
       "<div>\n",
       "<style scoped>\n",
       "    .dataframe tbody tr th:only-of-type {\n",
       "        vertical-align: middle;\n",
       "    }\n",
       "\n",
       "    .dataframe tbody tr th {\n",
       "        vertical-align: top;\n",
       "    }\n",
       "\n",
       "    .dataframe thead th {\n",
       "        text-align: right;\n",
       "    }\n",
       "</style>\n",
       "<table border=\"1\" class=\"dataframe\">\n",
       "  <thead>\n",
       "    <tr style=\"text-align: right;\">\n",
       "      <th>class</th>\n",
       "      <th>ad.</th>\n",
       "      <th>percentage</th>\n",
       "    </tr>\n",
       "  </thead>\n",
       "  <tbody>\n",
       "    <tr>\n",
       "      <th>ancurl*com</th>\n",
       "      <td>189</td>\n",
       "      <td>41.176471</td>\n",
       "    </tr>\n",
       "    <tr>\n",
       "      <th>ancurl*bin</th>\n",
       "      <td>148</td>\n",
       "      <td>32.244009</td>\n",
       "    </tr>\n",
       "    <tr>\n",
       "      <th>ancurl*click</th>\n",
       "      <td>139</td>\n",
       "      <td>30.283224</td>\n",
       "    </tr>\n",
       "    <tr>\n",
       "      <th>ancurl*redirect</th>\n",
       "      <td>109</td>\n",
       "      <td>23.747277</td>\n",
       "    </tr>\n",
       "    <tr>\n",
       "      <th>ancurl*ng</th>\n",
       "      <td>101</td>\n",
       "      <td>22.004357</td>\n",
       "    </tr>\n",
       "    <tr>\n",
       "      <th>ancurl*adid</th>\n",
       "      <td>88</td>\n",
       "      <td>19.172113</td>\n",
       "    </tr>\n",
       "    <tr>\n",
       "      <th>ancurl*type</th>\n",
       "      <td>88</td>\n",
       "      <td>19.172113</td>\n",
       "    </tr>\n",
       "    <tr>\n",
       "      <th>ancurl*event</th>\n",
       "      <td>79</td>\n",
       "      <td>17.211329</td>\n",
       "    </tr>\n",
       "    <tr>\n",
       "      <th>ancurl*ng+type</th>\n",
       "      <td>78</td>\n",
       "      <td>16.993464</td>\n",
       "    </tr>\n",
       "    <tr>\n",
       "      <th>ancurl*runid</th>\n",
       "      <td>78</td>\n",
       "      <td>16.993464</td>\n",
       "    </tr>\n",
       "  </tbody>\n",
       "</table>\n",
       "</div>"
      ],
      "text/plain": [
       "class            ad.  percentage\n",
       "ancurl*com       189   41.176471\n",
       "ancurl*bin       148   32.244009\n",
       "ancurl*click     139   30.283224\n",
       "ancurl*redirect  109   23.747277\n",
       "ancurl*ng        101   22.004357\n",
       "ancurl*adid       88   19.172113\n",
       "ancurl*type       88   19.172113\n",
       "ancurl*event      79   17.211329\n",
       "ancurl*ng+type    78   16.993464\n",
       "ancurl*runid      78   16.993464"
      ]
     },
     "execution_count": 22,
     "metadata": {},
     "output_type": "execute_result"
    }
   ],
   "source": [
    "ad_ancurls = (ancurls.iloc[:, :473].groupby(\"class\").sum())[:1].T\n",
    "nonad_ancurls = (ancurls.iloc[:, :473].groupby(\"class\").sum())[1:2].T\n",
    "\n",
    "# top 10 ancurls for ad\n",
    "ad_ancurls.loc[:, \"percentage\"] = ad_ancurls.apply(lambda row: row['ad.']/459*100, axis=1)\n",
    "ad_ancurls.nlargest(10, \"percentage\")"
   ]
  },
  {
   "cell_type": "code",
   "execution_count": 23,
   "metadata": {},
   "outputs": [
    {
     "data": {
      "text/html": [
       "<div>\n",
       "<style scoped>\n",
       "    .dataframe tbody tr th:only-of-type {\n",
       "        vertical-align: middle;\n",
       "    }\n",
       "\n",
       "    .dataframe tbody tr th {\n",
       "        vertical-align: top;\n",
       "    }\n",
       "\n",
       "    .dataframe thead th {\n",
       "        text-align: right;\n",
       "    }\n",
       "</style>\n",
       "<table border=\"1\" class=\"dataframe\">\n",
       "  <thead>\n",
       "    <tr style=\"text-align: right;\">\n",
       "      <th>class</th>\n",
       "      <th>nonad.</th>\n",
       "      <th>percentage</th>\n",
       "    </tr>\n",
       "  </thead>\n",
       "  <tbody>\n",
       "    <tr>\n",
       "      <th>ancurl*geocities.com</th>\n",
       "      <td>489</td>\n",
       "      <td>17.340426</td>\n",
       "    </tr>\n",
       "    <tr>\n",
       "      <th>ancurl*www.geocities.com</th>\n",
       "      <td>469</td>\n",
       "      <td>16.631206</td>\n",
       "    </tr>\n",
       "    <tr>\n",
       "      <th>ancurl*bin</th>\n",
       "      <td>221</td>\n",
       "      <td>7.836879</td>\n",
       "    </tr>\n",
       "    <tr>\n",
       "      <th>ancurl*index</th>\n",
       "      <td>142</td>\n",
       "      <td>5.035461</td>\n",
       "    </tr>\n",
       "    <tr>\n",
       "      <th>ancurl*heartland</th>\n",
       "      <td>141</td>\n",
       "      <td>5.000000</td>\n",
       "    </tr>\n",
       "    <tr>\n",
       "      <th>ancurl*index+html</th>\n",
       "      <td>113</td>\n",
       "      <td>4.007092</td>\n",
       "    </tr>\n",
       "    <tr>\n",
       "      <th>ancurl*ring</th>\n",
       "      <td>88</td>\n",
       "      <td>3.120567</td>\n",
       "    </tr>\n",
       "    <tr>\n",
       "      <th>ancurl*webring</th>\n",
       "      <td>84</td>\n",
       "      <td>2.978723</td>\n",
       "    </tr>\n",
       "    <tr>\n",
       "      <th>ancurl*webring.org</th>\n",
       "      <td>82</td>\n",
       "      <td>2.907801</td>\n",
       "    </tr>\n",
       "    <tr>\n",
       "      <th>ancurl*bin+webring</th>\n",
       "      <td>81</td>\n",
       "      <td>2.872340</td>\n",
       "    </tr>\n",
       "  </tbody>\n",
       "</table>\n",
       "</div>"
      ],
      "text/plain": [
       "class                     nonad.  percentage\n",
       "ancurl*geocities.com         489   17.340426\n",
       "ancurl*www.geocities.com     469   16.631206\n",
       "ancurl*bin                   221    7.836879\n",
       "ancurl*index                 142    5.035461\n",
       "ancurl*heartland             141    5.000000\n",
       "ancurl*index+html            113    4.007092\n",
       "ancurl*ring                   88    3.120567\n",
       "ancurl*webring                84    2.978723\n",
       "ancurl*webring.org            82    2.907801\n",
       "ancurl*bin+webring            81    2.872340"
      ]
     },
     "execution_count": 23,
     "metadata": {},
     "output_type": "execute_result"
    }
   ],
   "source": [
    "# top 10 ancurls for non-ad\n",
    "nonad_ancurls.loc[:, \"percentage\"] = nonad_ancurls.apply(lambda row: row['nonad.']/2820*100, axis=1)\n",
    "nonad_ancurls.nlargest(10, \"percentage\")"
   ]
  },
  {
   "cell_type": "markdown",
   "metadata": {},
   "source": [
    "Once again we see slightly different frequent words in anchor urls for ad and non-ad images. In particular `ancurl*com` is very prevalent in ad images but does not make the top 10 for non-ads. Similarly, `ancurl*geocities.com` and `ancurl*www.geocities.com` rank highly for non-ads but are not in the top 10 for ads. We saw similar effects earlier for origurl features, but the difference here is more pronounced."
   ]
  },
  {
   "cell_type": "code",
   "execution_count": 24,
   "metadata": {},
   "outputs": [
    {
     "data": {
      "text/plain": [
       "Text(0, 0.5, 'Number of Alts')"
      ]
     },
     "execution_count": 24,
     "metadata": {},
     "output_type": "execute_result"
    },
    {
     "data": {
      "image/png": "[encoded data removed]",
      "text/plain": [
       "<Figure size 720x576 with 1 Axes>"
      ]
     },
     "metadata": {
      "needs_background": "light"
     },
     "output_type": "display_data"
    }
   ],
   "source": [
    "alts = df[list(filter(lambda x: x.startswith(\"alt\") or x == \"class\", names))]\n",
    "num_alts = 111 - alts.eq(0).sum(axis=1)\n",
    "alts.loc[:,'num_alts'] = num_alts\n",
    "\n",
    "plt.figure(figsize=(10,8))\n",
    "sns.boxplot(x = 'class',y = 'num_alts', data = alts)\n",
    "plt.title('Central Tendency of Number of Alts for Ad and NonAd Images')\n",
    "plt.xlabel('Target')\n",
    "plt.ylabel('Number of Alts')"
   ]
  },
  {
   "cell_type": "markdown",
   "metadata": {},
   "source": [
    "There are 111 alt text features in the dataset. The spread of number of alt texts is wider for ad images than non-ad but there are a good amount of overlapping ranges. Hence this is not as clear an indicator as anchor urls but does invoke a bigger difference than urls or original urls."
   ]
  },
  {
   "cell_type": "code",
   "execution_count": 25,
   "metadata": {},
   "outputs": [
    {
     "data": {
      "text/html": [
       "<div>\n",
       "<style scoped>\n",
       "    .dataframe tbody tr th:only-of-type {\n",
       "        vertical-align: middle;\n",
       "    }\n",
       "\n",
       "    .dataframe tbody tr th {\n",
       "        vertical-align: top;\n",
       "    }\n",
       "\n",
       "    .dataframe thead th {\n",
       "        text-align: right;\n",
       "    }\n",
       "</style>\n",
       "<table border=\"1\" class=\"dataframe\">\n",
       "  <thead>\n",
       "    <tr style=\"text-align: right;\">\n",
       "      <th>class</th>\n",
       "      <th>ad.</th>\n",
       "      <th>percentage</th>\n",
       "    </tr>\n",
       "  </thead>\n",
       "  <tbody>\n",
       "    <tr>\n",
       "      <th>alt*click</th>\n",
       "      <td>134</td>\n",
       "      <td>29.193900</td>\n",
       "    </tr>\n",
       "    <tr>\n",
       "      <th>alt*here</th>\n",
       "      <td>124</td>\n",
       "      <td>27.015251</td>\n",
       "    </tr>\n",
       "    <tr>\n",
       "      <th>alt*click+here</th>\n",
       "      <td>123</td>\n",
       "      <td>26.797386</td>\n",
       "    </tr>\n",
       "    <tr>\n",
       "      <th>alt*for</th>\n",
       "      <td>75</td>\n",
       "      <td>16.339869</td>\n",
       "    </tr>\n",
       "    <tr>\n",
       "      <th>alt*here+for</th>\n",
       "      <td>53</td>\n",
       "      <td>11.546841</td>\n",
       "    </tr>\n",
       "    <tr>\n",
       "      <th>alt*the</th>\n",
       "      <td>39</td>\n",
       "      <td>8.496732</td>\n",
       "    </tr>\n",
       "    <tr>\n",
       "      <th>alt*to</th>\n",
       "      <td>33</td>\n",
       "      <td>7.189542</td>\n",
       "    </tr>\n",
       "    <tr>\n",
       "      <th>alt*and</th>\n",
       "      <td>23</td>\n",
       "      <td>5.010893</td>\n",
       "    </tr>\n",
       "    <tr>\n",
       "      <th>alt*free</th>\n",
       "      <td>22</td>\n",
       "      <td>4.793028</td>\n",
       "    </tr>\n",
       "    <tr>\n",
       "      <th>alt*com</th>\n",
       "      <td>21</td>\n",
       "      <td>4.575163</td>\n",
       "    </tr>\n",
       "  </tbody>\n",
       "</table>\n",
       "</div>"
      ],
      "text/plain": [
       "class           ad.  percentage\n",
       "alt*click       134   29.193900\n",
       "alt*here        124   27.015251\n",
       "alt*click+here  123   26.797386\n",
       "alt*for          75   16.339869\n",
       "alt*here+for     53   11.546841\n",
       "alt*the          39    8.496732\n",
       "alt*to           33    7.189542\n",
       "alt*and          23    5.010893\n",
       "alt*free         22    4.793028\n",
       "alt*com          21    4.575163"
      ]
     },
     "execution_count": 25,
     "metadata": {},
     "output_type": "execute_result"
    }
   ],
   "source": [
    "ad_alts = (alts.iloc[:, :112].groupby(\"class\").sum())[:1].T\n",
    "nonad_alts = (alts.iloc[:, :112].groupby(\"class\").sum())[1:2].T\n",
    "\n",
    "# top 10 alts for ad\n",
    "ad_alts.loc[:, \"percentage\"] = ad_alts.apply(lambda row: row['ad.']/459*100, axis=1)\n",
    "ad_alts.nlargest(10, \"percentage\")"
   ]
  },
  {
   "cell_type": "code",
   "execution_count": 26,
   "metadata": {},
   "outputs": [
    {
     "data": {
      "text/html": [
       "<div>\n",
       "<style scoped>\n",
       "    .dataframe tbody tr th:only-of-type {\n",
       "        vertical-align: middle;\n",
       "    }\n",
       "\n",
       "    .dataframe tbody tr th {\n",
       "        vertical-align: top;\n",
       "    }\n",
       "\n",
       "    .dataframe thead th {\n",
       "        text-align: right;\n",
       "    }\n",
       "</style>\n",
       "<table border=\"1\" class=\"dataframe\">\n",
       "  <thead>\n",
       "    <tr style=\"text-align: right;\">\n",
       "      <th>class</th>\n",
       "      <th>nonad.</th>\n",
       "      <th>percentage</th>\n",
       "    </tr>\n",
       "  </thead>\n",
       "  <tbody>\n",
       "    <tr>\n",
       "      <th>alt*the</th>\n",
       "      <td>115</td>\n",
       "      <td>4.078014</td>\n",
       "    </tr>\n",
       "    <tr>\n",
       "      <th>alt*site</th>\n",
       "      <td>57</td>\n",
       "      <td>2.021277</td>\n",
       "    </tr>\n",
       "    <tr>\n",
       "      <th>alt*page</th>\n",
       "      <td>54</td>\n",
       "      <td>1.914894</td>\n",
       "    </tr>\n",
       "    <tr>\n",
       "      <th>alt*home</th>\n",
       "      <td>50</td>\n",
       "      <td>1.773050</td>\n",
       "    </tr>\n",
       "    <tr>\n",
       "      <th>alt*award</th>\n",
       "      <td>48</td>\n",
       "      <td>1.702128</td>\n",
       "    </tr>\n",
       "    <tr>\n",
       "      <th>alt*geocities</th>\n",
       "      <td>46</td>\n",
       "      <td>1.631206</td>\n",
       "    </tr>\n",
       "    <tr>\n",
       "      <th>alt*of</th>\n",
       "      <td>45</td>\n",
       "      <td>1.595745</td>\n",
       "    </tr>\n",
       "    <tr>\n",
       "      <th>alt*to</th>\n",
       "      <td>44</td>\n",
       "      <td>1.560284</td>\n",
       "    </tr>\n",
       "    <tr>\n",
       "      <th>alt*my</th>\n",
       "      <td>35</td>\n",
       "      <td>1.241135</td>\n",
       "    </tr>\n",
       "    <tr>\n",
       "      <th>alt*and</th>\n",
       "      <td>34</td>\n",
       "      <td>1.205674</td>\n",
       "    </tr>\n",
       "  </tbody>\n",
       "</table>\n",
       "</div>"
      ],
      "text/plain": [
       "class          nonad.  percentage\n",
       "alt*the           115    4.078014\n",
       "alt*site           57    2.021277\n",
       "alt*page           54    1.914894\n",
       "alt*home           50    1.773050\n",
       "alt*award          48    1.702128\n",
       "alt*geocities      46    1.631206\n",
       "alt*of             45    1.595745\n",
       "alt*to             44    1.560284\n",
       "alt*my             35    1.241135\n",
       "alt*and            34    1.205674"
      ]
     },
     "execution_count": 26,
     "metadata": {},
     "output_type": "execute_result"
    }
   ],
   "source": [
    "# top 10 alts for non-ad\n",
    "nonad_alts.loc[:, \"percentage\"] = nonad_alts.apply(lambda row: row['nonad.']/2820*100, axis=1)\n",
    "nonad_alts.nlargest(10, \"percentage\")"
   ]
  },
  {
   "cell_type": "markdown",
   "metadata": {},
   "source": [
    "As we have mentioned before, alt texts are in general less prevalent in non-ad images. Hence we are seeing very low percentages on all existing alt texts for the nonad entries."
   ]
  },
  {
   "cell_type": "code",
   "execution_count": 27,
   "metadata": {},
   "outputs": [
    {
     "data": {
      "text/plain": [
       "199"
      ]
     },
     "execution_count": 27,
     "metadata": {},
     "output_type": "execute_result"
    }
   ],
   "source": [
    "captions = df[list(filter(lambda x: x.startswith(\"caption\") or x == \"class\", names))]\n",
    "num_captions = 19 - captions.eq(0).sum(axis=1)\n",
    "num_captions.to_numpy().nonzero()[0].size"
   ]
  },
  {
   "cell_type": "markdown",
   "metadata": {},
   "source": [
    "There are only 19 caption text features in the dataset and most of the images do not have any captions at all. In fact only 199 datapoints have any caption at all. Distributions and top values per label are not constructed due to the limited datapoints. This could also mean that we can consider dropping all caption related variables as part of the feature engineering."
   ]
  },
  {
   "cell_type": "markdown",
   "metadata": {},
   "source": [
    "This concludes our data analysis and a summary of interesting observations are reiterated below:\n",
    "- We have an uneven split between datapoints for ads and non-ads in our dataset. In particular we have 2820 non-ad images and 459 ad images.\n",
    "- `width` and `num_ancurls` have distinctly different distributions among ad and non-ad images, which makes them effective predicting variables for modeling.\n",
    "- `num_alts` and specific url/origurl address can potentially be used as weak indicators for ads and non-ads since they are slightly more prevalent in a particular label.\n",
    "- Certain url/origurl addresses and captions can potentially be ignored because they are either distributed similar across the two labels or simply not present for most of the dataset."
   ]
  },
  {
   "cell_type": "markdown",
   "metadata": {},
   "source": [
    "## Model Selection & Evaluation"
   ]
  },
  {
   "cell_type": "markdown",
   "metadata": {},
   "source": [
    "We now proceed with buidling models based on our dataset to hopefully predict effectively whether or not an image is an ad or not. First we split our dataset into 3 sets, namely training set, dev set, and test set. This is so that we can be more confident at our models and to better compare the model options we come up with. Specifically, training set is used to train our models, dev set is used to optimize each model, and test set is used to evaluate performance of the model. We have assigned 20% of the total dataset to be the test set, and then 20% of the remining 80% (in other words 16% of the total dataset) to be the dev set, and the rest being training set."
   ]
  },
  {
   "cell_type": "code",
   "execution_count": 28,
   "metadata": {},
   "outputs": [
    {
     "name": "stdout",
     "output_type": "stream",
     "text": [
      "data shape: (3279, 1558)\n",
      "label shape: (3279,)\n"
     ]
    }
   ],
   "source": [
    "# define X and y for attributes and prediction - the last column is the label of the data point\n",
    "X = df.iloc[:,1:-1]\n",
    "X = X.fillna(-1)\n",
    "y = df.iloc[:,-1]\n",
    "\n",
    "# we add num_ancurls into the attributes\n",
    "ancurls = df[list(filter(lambda x: x.startswith(\"ancurl\"), names))]\n",
    "num_ancurls = 472 - ancurls.eq(0).sum(axis=1)\n",
    "X.loc[:, \"num_ancurls\"] = num_ancurls\n",
    "\n",
    "print('data shape:', X.shape)\n",
    "print('label shape:', y.shape)"
   ]
  },
  {
   "cell_type": "code",
   "execution_count": 29,
   "metadata": {},
   "outputs": [],
   "source": [
    "# set some variables to hold train and test data\n",
    "X_train, X_test, y_train, y_test = train_test_split(X, y, test_size = 0.2)\n",
    "\n",
    "# split again into train and dev\n",
    "X_train, X_dev, y_train, y_dev = train_test_split(X_train, y_train, test_size = 0.2)"
   ]
  },
  {
   "cell_type": "markdown",
   "metadata": {},
   "source": [
    "### Model Building"
   ]
  },
  {
   "cell_type": "markdown",
   "metadata": {},
   "source": [
    "#### K-Nearest Neighbors \n",
    "\n",
    "We first use the K-Nearest Neighbors algorithm. This algorithm predicts the class of each observation by finding the number K nearest neighbors and assigning the class the majority of the neighbors belong to.\n",
    "\n",
    "We optimize the hyperparameters according to the number of neighbors, whether to use uniform or distance-based weights for evaluating which class an observation belongs to, and the \"power\" of the distance measurement.\n",
    "\n",
    "K-Nearest Neighbors works poorly in high dimensions. In the case of this Internet advertisements dataset with a large number of dimensions, we anticipate bad performance.\n",
    "\n",
    "In spite of the prediction of bad performance, the weighted f1-score is still high, at 0.96."
   ]
  },
  {
   "cell_type": "code",
   "execution_count": 30,
   "metadata": {},
   "outputs": [
    {
     "name": "stdout",
     "output_type": "stream",
     "text": [
      "Classification report for best KNN\n",
      "Hyperparameters used: {'n_neighbors': 1, 'p': 1, 'weights': 'uniform'}\n",
      "              precision    recall  f1-score   support\n",
      "\n",
      "         ad.       0.94      0.82      0.88        82\n",
      "      nonad.       0.97      0.99      0.98       443\n",
      "\n",
      "    accuracy                           0.96       525\n",
      "   macro avg       0.96      0.90      0.93       525\n",
      "weighted avg       0.96      0.96      0.96       525\n",
      "\n"
     ]
    }
   ],
   "source": [
    "# Set the randomizer seed so results are the same each time.\n",
    "np.random.seed(0)\n",
    "\n",
    "# KNN\n",
    "# Input different values for hyperparameters\n",
    "parameters = {'n_neighbors': [1, 3, 5, 7, 9], 'weights': ['uniform', 'distance'], 'p': [1, 2, 3]}\n",
    "\n",
    "knn = KNeighborsClassifier()\n",
    "    \n",
    "# find the best hyperparameters\n",
    "clf = GridSearchCV(knn, parameters)\n",
    "clf.fit(X_train, y_train)\n",
    "\n",
    "predictions = clf.predict(X_dev)\n",
    "\n",
    "print(\"Classification report for best KNN\")\n",
    "print(\"Hyperparameters used: {}\".format(clf.best_params_))\n",
    "print(classification_report(y_dev, predictions))"
   ]
  },
  {
   "cell_type": "markdown",
   "metadata": {},
   "source": [
    "#### Support Vector Machine\n",
    "\n",
    "The support vector machine algorithm seeks to divide observations of different classes with as large a space as possible when these observations have been assigned as points to the feature space.\n",
    "\n",
    "We optimize the hyperparameter \"C\" which is the penalty parameter of the error term.\n",
    "\n",
    "After optimization, the best support vector machine classifier has a weighted f1-score of 0.97, which is better than the K-nearest neighbors algorithm performance."
   ]
  },
  {
   "cell_type": "code",
   "execution_count": 31,
   "metadata": {},
   "outputs": [
    {
     "name": "stdout",
     "output_type": "stream",
     "text": [
      "Classification report for support vector machine\n",
      "Hyperparameters used: {'C': 1000}\n",
      "              precision    recall  f1-score   support\n",
      "\n",
      "         ad.       0.95      0.85      0.90        82\n",
      "      nonad.       0.97      0.99      0.98       443\n",
      "\n",
      "    accuracy                           0.97       525\n",
      "   macro avg       0.96      0.92      0.94       525\n",
      "weighted avg       0.97      0.97      0.97       525\n",
      "\n"
     ]
    }
   ],
   "source": [
    "# Set the randomizer seed so results are the same each time.\n",
    "np.random.seed(0)\n",
    "\n",
    "# Support Vector Machine\n",
    "parameters = {\"C\": [0.001, 0.01, 0.1, 0.5, 1, 10, 50, 100, 1000]}\n",
    "\n",
    "svm = SVC()\n",
    "\n",
    "# find the best hyperparameters\n",
    "clf = GridSearchCV(svm, parameters)\n",
    "clf.fit(X_train, y_train)\n",
    "\n",
    "predictions = clf.predict(X_dev)\n",
    "\n",
    "print(\"Classification report for support vector machine\")\n",
    "print(\"Hyperparameters used: {}\".format(clf.best_params_))\n",
    "print(classification_report(y_dev, predictions))"
   ]
  },
  {
   "cell_type": "markdown",
   "metadata": {},
   "source": [
    "#### Logistic Regression\n",
    "\n",
    "Logistic regression estimates regression parameters for the logistic function, and is used in this case to predict classes for the observations in the development and test datasets.\n",
    "\n",
    "The hyperparameter we optimize in this investigation for this algorithm is \"C\", the regularization strength which penalizes having too many features in the model.\n",
    "\n",
    "In general, logistic regression performs better when there are more observations.\n",
    "\n",
    "After optimizing, the best logistic regression model found has a weighted f1-score of 0.97."
   ]
  },
  {
   "cell_type": "code",
   "execution_count": 32,
   "metadata": {},
   "outputs": [
    {
     "name": "stdout",
     "output_type": "stream",
     "text": [
      "Classification report for logistic regression\n",
      "Hyperparameters used: {'C': 10}\n",
      "              precision    recall  f1-score   support\n",
      "\n",
      "         ad.       0.95      0.85      0.90        82\n",
      "      nonad.       0.97      0.99      0.98       443\n",
      "\n",
      "    accuracy                           0.97       525\n",
      "   macro avg       0.96      0.92      0.94       525\n",
      "weighted avg       0.97      0.97      0.97       525\n",
      "\n"
     ]
    }
   ],
   "source": [
    "# Set the randomizer seed so results are the same each time.\n",
    "np.random.seed(0)\n",
    "\n",
    "# Logistic regression\n",
    "parameters = {\"C\": [0.001, 0.01, 0.1, 0.5, 1, 10, 50, 100, 1000]}\n",
    "\n",
    "lr = LogisticRegression(penalty=\"l2\", solver = \"liblinear\")\n",
    "\n",
    "# find the best hyperparameters\n",
    "clf = GridSearchCV(lr, parameters)\n",
    "clf.fit(X_train, y_train)\n",
    "\n",
    "predictions = clf.predict(X_dev)\n",
    "\n",
    "print(\"Classification report for logistic regression\")\n",
    "print(\"Hyperparameters used: {}\".format(clf.best_params_))\n",
    "print(classification_report(y_dev, predictions))"
   ]
  },
  {
   "cell_type": "markdown",
   "metadata": {},
   "source": [
    "#### Bernoulli Naive Bayes\n",
    "\n",
    "The Bernoulli Naive Bayes classifier applies Bayes' Rule to classification, with strong independence assumptions between features. This assumption may not be appropriate for the features seen in this dataset, as the features may be correlated with each other. This particular classifier is the Bernoulli algorithm, so it treats each feature as a binary variable.\n",
    "\n",
    "We optimize the \"alpha\" hyperparameter, which is the Laplace smoothing parameter.\n",
    "\n",
    "On the development data set, the weighted f1-score is 0.96."
   ]
  },
  {
   "cell_type": "code",
   "execution_count": 33,
   "metadata": {
    "scrolled": true
   },
   "outputs": [
    {
     "name": "stdout",
     "output_type": "stream",
     "text": [
      "Classification report for Bernoulli Naive Bayes\n",
      "Hyperparameters used: {'alpha': 0.01}\n",
      "              precision    recall  f1-score   support\n",
      "\n",
      "         ad.       0.98      0.74      0.85        82\n",
      "      nonad.       0.95      1.00      0.98       443\n",
      "\n",
      "    accuracy                           0.96       525\n",
      "   macro avg       0.97      0.87      0.91       525\n",
      "weighted avg       0.96      0.96      0.96       525\n",
      "\n"
     ]
    }
   ],
   "source": [
    "# Set the randomizer seed so results are the same each time.\n",
    "np.random.seed(0)\n",
    "\n",
    "# Bernoulli Naive Bayes\n",
    "parameters = {\"alpha\": [0.001, 0.01, 0.1, 0.5, 1, 10]}\n",
    "\n",
    "bnb = BernoulliNB()\n",
    "\n",
    "# find the best hyperparameters\n",
    "clf = GridSearchCV(bnb, parameters)\n",
    "clf.fit(X_train, y_train)\n",
    "\n",
    "predictions = clf.predict(X_dev)\n",
    "\n",
    "print(\"Classification report for Bernoulli Naive Bayes\")\n",
    "print(\"Hyperparameters used: {}\".format(clf.best_params_))\n",
    "print(classification_report(y_dev, predictions))"
   ]
  },
  {
   "cell_type": "markdown",
   "metadata": {},
   "source": [
    "#### Multinomial Naive Bayes\n",
    "\n",
    "The multinomial Naive Bayes works with the same principles as the Bernoulli Naive Bayes model above; however, variables are treated not just as binary variables.\n",
    "\n",
    "Like the above Bernoulli Naive Bayes method, we optimize the \"alpha\" hyperparameter.\n",
    "\n",
    "The weighted f1-score for the optimized algorithm is 0.95."
   ]
  },
  {
   "cell_type": "code",
   "execution_count": 34,
   "metadata": {},
   "outputs": [
    {
     "name": "stdout",
     "output_type": "stream",
     "text": [
      "Classification report for Multinomial Naive Bayes\n",
      "Hyperparameters used: {'alpha': 0.5}\n",
      "              precision    recall  f1-score   support\n",
      "\n",
      "         ad.       0.87      0.79      0.83        82\n",
      "      nonad.       0.96      0.98      0.97       443\n",
      "\n",
      "    accuracy                           0.95       525\n",
      "   macro avg       0.91      0.89      0.90       525\n",
      "weighted avg       0.95      0.95      0.95       525\n",
      "\n"
     ]
    }
   ],
   "source": [
    "# Set the randomizer seed so results are the same each time.\n",
    "np.random.seed(0)\n",
    "\n",
    "# Multinomial Naive Bayes\n",
    "parameters = {\"alpha\": [0.001, 0.01, 0.1, 0.5, 1, 10]}\n",
    "\n",
    "mnb = MultinomialNB()\n",
    "\n",
    "# find the best hyperparameters\n",
    "clf = GridSearchCV(mnb, parameters)\n",
    "clf.fit(X_train, y_train)\n",
    "\n",
    "predictions = clf.predict(X_dev)\n",
    "\n",
    "print(\"Classification report for Multinomial Naive Bayes\")\n",
    "print(\"Hyperparameters used: {}\".format(clf.best_params_))\n",
    "print(classification_report(y_dev, predictions))"
   ]
  },
  {
   "cell_type": "markdown",
   "metadata": {},
   "source": [
    "#### Decision Tree\n",
    "\n",
    "The decision tree algorithm can be thought of as a series of decisions, branching off in a treelike way. It uses features to make a decision for each observation and at the end of the tree assigns each to a class.\n",
    "\n",
    "In our optimization, we find the best hyperparameters for the depth of the tree, the minimum number of samples per split and leaf, and the maximum number of features considered.\n",
    "\n",
    "The decision tree has a tendency to overfit and can be computationally intensive to fit.\n",
    "\n",
    "The best decision tree is found to have a weighted f1-score of 0.96."
   ]
  },
  {
   "cell_type": "code",
   "execution_count": 35,
   "metadata": {},
   "outputs": [
    {
     "name": "stdout",
     "output_type": "stream",
     "text": [
      "Classification report for best decision tree\n",
      "Hyperparameters used: {'max_depth': 1000, 'max_features': 'sqrt', 'min_samples_leaf': 1, 'min_samples_split': 2}\n",
      "              precision    recall  f1-score   support\n",
      "\n",
      "         ad.       0.90      0.85      0.88        82\n",
      "      nonad.       0.97      0.98      0.98       443\n",
      "\n",
      "    accuracy                           0.96       525\n",
      "   macro avg       0.94      0.92      0.93       525\n",
      "weighted avg       0.96      0.96      0.96       525\n",
      "\n"
     ]
    }
   ],
   "source": [
    "# Set the randomizer seed so results are the same each time.\n",
    "np.random.seed(0)\n",
    "\n",
    "# Decision Tree\n",
    "# Input different values for hyperparameters\n",
    "parameters = {'max_depth': [5, 10, 100, 1000, 10000, 100000, None], \n",
    "              'min_samples_split': [2, 3, 4, 5, 6, 7, 8, 9], \n",
    "              'min_samples_leaf': [1, 2, 3],\n",
    "              'max_features': [None, 'auto', 'sqrt', 'log2']}\n",
    "\n",
    "dt = DecisionTreeClassifier()\n",
    "    \n",
    "# find the best hyperparameters\n",
    "clf = GridSearchCV(dt, parameters)\n",
    "clf.fit(X_train, y_train)\n",
    "\n",
    "predictions = clf.predict(X_dev)\n",
    "\n",
    "print(\"Classification report for best decision tree\")\n",
    "print(\"Hyperparameters used: {}\".format(clf.best_params_))\n",
    "print(classification_report(y_dev, predictions))"
   ]
  },
  {
   "cell_type": "markdown",
   "metadata": {},
   "source": [
    "#### Random Forest\n",
    "\n",
    "The random forest algorithm is an ensemble method made of many decision trees. Each decision tree has a subset of the total number of features, and the decision trees \"vote\" to predict the class of new observations.\n",
    "\n",
    "In this study we optimize the hyperparameters number of estimators, the minimum number of samples per leaf, and the maximum depth of each estimator.\n",
    "\n",
    "One of the motivations behind the random forest algorithm is that it can compensate for the overfitting seen in the decision tree algorithm.\n",
    "\n",
    "We find that the weighted f1-score is 0.98 for the train data."
   ]
  },
  {
   "cell_type": "code",
   "execution_count": 36,
   "metadata": {},
   "outputs": [
    {
     "name": "stdout",
     "output_type": "stream",
     "text": [
      "Classification report for random forest\n",
      "Hyperparameters used: {'max_depth': 1000, 'min_samples_leaf': 1, 'n_estimators': 35}\n",
      "              precision    recall  f1-score   support\n",
      "\n",
      "         ad.       0.97      0.88      0.92        82\n",
      "      nonad.       0.98      1.00      0.99       443\n",
      "\n",
      "    accuracy                           0.98       525\n",
      "   macro avg       0.98      0.94      0.95       525\n",
      "weighted avg       0.98      0.98      0.98       525\n",
      "\n"
     ]
    }
   ],
   "source": [
    "# Set the randomizer seed so results are the same each time.\n",
    "np.random.seed(0)\n",
    "\n",
    "# Random Forest\n",
    "parameters = {'n_estimators': [5, 15, 25, 35, 45],\n",
    "              'min_samples_leaf': [1, 2, 3],\n",
    "              'max_depth': [10, 75, 100, 150, 1000]}\n",
    "\n",
    "rf = RandomForestClassifier(n_jobs=-1)\n",
    "\n",
    "# find the best hyperparameters\n",
    "clf = GridSearchCV(rf, parameters)\n",
    "clf.fit(X_train, y_train)\n",
    "\n",
    "predictions = clf.predict(X_dev)\n",
    "\n",
    "print(\"Classification report for random forest\")\n",
    "print(\"Hyperparameters used: {}\".format(clf.best_params_))\n",
    "print(classification_report(y_dev, predictions))"
   ]
  },
  {
   "cell_type": "markdown",
   "metadata": {},
   "source": [
    "#### Bagged Tree\n",
    "\n",
    "Like the random forest method, the bagged tree method is an ensemble method that combines the results of many different decision tree estimators. The difference with random forest is that this algorithm uses all the features, but only a sample of the entire training data set to do its training for each decision tree.\n",
    "\n",
    "The hyperparameter optimized for bagged tree is the number of estimators.\n",
    "\n",
    "Like the random forest method, the bagged tree method can compensate for the overfitting that can happen in the decision tree algorithm.\n",
    "\n",
    "We found that the weighted f1-score for the optimized bagged tree model is 0.97."
   ]
  },
  {
   "cell_type": "code",
   "execution_count": 37,
   "metadata": {},
   "outputs": [
    {
     "name": "stdout",
     "output_type": "stream",
     "text": [
      "Classification report for bagged tree\n",
      "Hyperparameters used: {'n_estimators': 15}\n",
      "              precision    recall  f1-score   support\n",
      "\n",
      "         ad.       0.95      0.89      0.92        82\n",
      "      nonad.       0.98      0.99      0.99       443\n",
      "\n",
      "    accuracy                           0.98       525\n",
      "   macro avg       0.96      0.94      0.95       525\n",
      "weighted avg       0.97      0.98      0.97       525\n",
      "\n"
     ]
    }
   ],
   "source": [
    "# Set the randomizer seed so results are the same each time.\n",
    "np.random.seed(0)\n",
    "\n",
    "# Bagged Tree\n",
    "parameters = {'n_estimators': [5, 15, 25, 35, 45]}\n",
    "\n",
    "bt = BaggingClassifier()\n",
    "\n",
    "# find the best hyperparameters\n",
    "clf = GridSearchCV(bt, parameters)\n",
    "clf.fit(X_train, y_train)\n",
    "\n",
    "predictions = clf.predict(X_dev)\n",
    "\n",
    "print(\"Classification report for bagged tree\")\n",
    "print(\"Hyperparameters used: {}\".format(clf.best_params_))\n",
    "print(classification_report(y_dev, predictions))"
   ]
  },
  {
   "cell_type": "markdown",
   "metadata": {},
   "source": [
    "#### Most Important Features for Optimized Bagged Tree\n",
    "\n",
    "For the best bagged tree classifier after hyperparameter tuning, we examine the most important features.\n",
    "\n",
    "We get the average of the feature importances (Gini importances) for the trees in the bagged tree classifier.\n",
    "\n",
    "The first two features have a higher importance measure by a large margin. They are `width` and the number of anchor URLs, which were anticipated as being important features in the Data Analysis section above.\n",
    "\n",
    "The `url*ads` and `url*ad` features are also anticipated as being important in the earlier section, appearing in the most frequently appearing url features lists only for the ad class.\n",
    "\n",
    "Other important features are if \"com\" or \"click\" appear in the anchor URL."
   ]
  },
  {
   "cell_type": "code",
   "execution_count": 38,
   "metadata": {},
   "outputs": [
    {
     "name": "stdout",
     "output_type": "stream",
     "text": [
      "Rank Feature Name        Gini Importance\n",
      "1    width               0.299\n",
      "2    num_ancurls         0.252\n",
      "3    url*ads             0.058\n",
      "4    ancurl*click        0.052\n",
      "5    ancurl*com          0.051\n",
      "6    ancurl*http+www     0.042\n",
      "7    aratio              0.024\n",
      "8    url*ad              0.015\n",
      "9    ancurl*area         0.010\n",
      "10   url*images+home     0.008\n"
     ]
    }
   ],
   "source": [
    "# find the average feature importances and find the top 10 average importances\n",
    "feature_importances = np.mean([\n",
    "    tree.feature_importances_ for tree in clf.best_estimator_.estimators_\n",
    "], axis=0)\n",
    "top_10_features = sorted(feature_importances, reverse=True)[:10]\n",
    "\n",
    "# print out the top 10 average importances\n",
    "print(\"{:5s}{:20s}{}\".format(\"Rank\", \"Feature Name\", \"Gini Importance\"))\n",
    "for i, importance in enumerate(top_10_features):\n",
    "    print(\"{:5s}{:20s}{:.3f}\".format(str(i+1), X_dev.columns[list(feature_importances).index(importance)], importance))"
   ]
  },
  {
   "cell_type": "markdown",
   "metadata": {},
   "source": [
    "#### Misclassified Records for Optimized Bagged Tree\n",
    "\n",
    "From the holdout set kept for model development purposes there were a few observations that were misclassified by the optimized bagged tree.\n",
    "\n",
    "Out of the misclassified observations, most were ads that were misclassified as non-ads. This might have something to do with the unbalanced nature of the training dataset with more non-ads than ads, making it more likely for ads in the development dataset to be misclassified as non-ads.\n",
    "\n",
    "There are a few reasons why these may have been put into the wrong class. Many of the ad observations have unusually small widths and few or no anchor URLs, which may have made the algorithm misclassify them as non-ads.\n",
    "\n",
    "For the non-ads classified as ads, they tend to have many anchor URLs and large widths; this may have led to them being classified incorrectly as ads."
   ]
  },
  {
   "cell_type": "code",
   "execution_count": 39,
   "metadata": {},
   "outputs": [
    {
     "data": {
      "text/html": [
       "<div>\n",
       "<style scoped>\n",
       "    .dataframe tbody tr th:only-of-type {\n",
       "        vertical-align: middle;\n",
       "    }\n",
       "\n",
       "    .dataframe tbody tr th {\n",
       "        vertical-align: top;\n",
       "    }\n",
       "\n",
       "    .dataframe thead th {\n",
       "        text-align: right;\n",
       "    }\n",
       "</style>\n",
       "<table border=\"1\" class=\"dataframe\">\n",
       "  <thead>\n",
       "    <tr style=\"text-align: right;\">\n",
       "      <th></th>\n",
       "      <th>class</th>\n",
       "      <th>width</th>\n",
       "      <th>aratio</th>\n",
       "      <th>local</th>\n",
       "      <th>url*images+buttons</th>\n",
       "      <th>url*likesbooks.com</th>\n",
       "      <th>url*www.slake.com</th>\n",
       "      <th>url*hydrogeologist</th>\n",
       "      <th>url*oso</th>\n",
       "      <th>url*media</th>\n",
       "      <th>...</th>\n",
       "      <th>caption*home</th>\n",
       "      <th>caption*my</th>\n",
       "      <th>caption*your</th>\n",
       "      <th>caption*in</th>\n",
       "      <th>caption*bytes</th>\n",
       "      <th>caption*here</th>\n",
       "      <th>caption*click</th>\n",
       "      <th>caption*for</th>\n",
       "      <th>caption*you</th>\n",
       "      <th>num_ancurls</th>\n",
       "    </tr>\n",
       "  </thead>\n",
       "  <tbody>\n",
       "    <tr>\n",
       "      <th>105</th>\n",
       "      <td>ad.</td>\n",
       "      <td>58.000000</td>\n",
       "      <td>2.900000</td>\n",
       "      <td>0.0</td>\n",
       "      <td>0</td>\n",
       "      <td>0</td>\n",
       "      <td>0</td>\n",
       "      <td>0</td>\n",
       "      <td>0</td>\n",
       "      <td>0</td>\n",
       "      <td>...</td>\n",
       "      <td>0</td>\n",
       "      <td>0</td>\n",
       "      <td>0</td>\n",
       "      <td>0</td>\n",
       "      <td>0</td>\n",
       "      <td>0</td>\n",
       "      <td>0</td>\n",
       "      <td>0</td>\n",
       "      <td>0</td>\n",
       "      <td>1</td>\n",
       "    </tr>\n",
       "    <tr>\n",
       "      <th>372</th>\n",
       "      <td>ad.</td>\n",
       "      <td>400.000000</td>\n",
       "      <td>10.000000</td>\n",
       "      <td>0.0</td>\n",
       "      <td>0</td>\n",
       "      <td>0</td>\n",
       "      <td>0</td>\n",
       "      <td>0</td>\n",
       "      <td>0</td>\n",
       "      <td>0</td>\n",
       "      <td>...</td>\n",
       "      <td>0</td>\n",
       "      <td>0</td>\n",
       "      <td>0</td>\n",
       "      <td>0</td>\n",
       "      <td>0</td>\n",
       "      <td>0</td>\n",
       "      <td>0</td>\n",
       "      <td>0</td>\n",
       "      <td>0</td>\n",
       "      <td>0</td>\n",
       "    </tr>\n",
       "    <tr>\n",
       "      <th>1009</th>\n",
       "      <td>nonad.</td>\n",
       "      <td>400.000000</td>\n",
       "      <td>20.000000</td>\n",
       "      <td>0.0</td>\n",
       "      <td>0</td>\n",
       "      <td>0</td>\n",
       "      <td>0</td>\n",
       "      <td>0</td>\n",
       "      <td>0</td>\n",
       "      <td>0</td>\n",
       "      <td>...</td>\n",
       "      <td>0</td>\n",
       "      <td>0</td>\n",
       "      <td>0</td>\n",
       "      <td>0</td>\n",
       "      <td>0</td>\n",
       "      <td>0</td>\n",
       "      <td>0</td>\n",
       "      <td>0</td>\n",
       "      <td>0</td>\n",
       "      <td>4</td>\n",
       "    </tr>\n",
       "    <tr>\n",
       "      <th>377</th>\n",
       "      <td>ad.</td>\n",
       "      <td>345.000000</td>\n",
       "      <td>7.666600</td>\n",
       "      <td>1.0</td>\n",
       "      <td>0</td>\n",
       "      <td>0</td>\n",
       "      <td>0</td>\n",
       "      <td>0</td>\n",
       "      <td>0</td>\n",
       "      <td>0</td>\n",
       "      <td>...</td>\n",
       "      <td>0</td>\n",
       "      <td>0</td>\n",
       "      <td>0</td>\n",
       "      <td>0</td>\n",
       "      <td>0</td>\n",
       "      <td>0</td>\n",
       "      <td>0</td>\n",
       "      <td>0</td>\n",
       "      <td>0</td>\n",
       "      <td>0</td>\n",
       "    </tr>\n",
       "    <tr>\n",
       "      <th>99</th>\n",
       "      <td>ad.</td>\n",
       "      <td>54.000000</td>\n",
       "      <td>0.729700</td>\n",
       "      <td>1.0</td>\n",
       "      <td>0</td>\n",
       "      <td>0</td>\n",
       "      <td>0</td>\n",
       "      <td>0</td>\n",
       "      <td>0</td>\n",
       "      <td>0</td>\n",
       "      <td>...</td>\n",
       "      <td>0</td>\n",
       "      <td>0</td>\n",
       "      <td>0</td>\n",
       "      <td>0</td>\n",
       "      <td>0</td>\n",
       "      <td>0</td>\n",
       "      <td>0</td>\n",
       "      <td>0</td>\n",
       "      <td>0</td>\n",
       "      <td>0</td>\n",
       "    </tr>\n",
       "    <tr>\n",
       "      <th>492</th>\n",
       "      <td>nonad.</td>\n",
       "      <td>58.000000</td>\n",
       "      <td>1.160000</td>\n",
       "      <td>1.0</td>\n",
       "      <td>0</td>\n",
       "      <td>0</td>\n",
       "      <td>0</td>\n",
       "      <td>0</td>\n",
       "      <td>0</td>\n",
       "      <td>0</td>\n",
       "      <td>...</td>\n",
       "      <td>0</td>\n",
       "      <td>0</td>\n",
       "      <td>0</td>\n",
       "      <td>0</td>\n",
       "      <td>0</td>\n",
       "      <td>0</td>\n",
       "      <td>0</td>\n",
       "      <td>0</td>\n",
       "      <td>0</td>\n",
       "      <td>3</td>\n",
       "    </tr>\n",
       "    <tr>\n",
       "      <th>100</th>\n",
       "      <td>ad.</td>\n",
       "      <td>96.000000</td>\n",
       "      <td>3.096700</td>\n",
       "      <td>0.0</td>\n",
       "      <td>0</td>\n",
       "      <td>0</td>\n",
       "      <td>0</td>\n",
       "      <td>0</td>\n",
       "      <td>0</td>\n",
       "      <td>0</td>\n",
       "      <td>...</td>\n",
       "      <td>0</td>\n",
       "      <td>0</td>\n",
       "      <td>0</td>\n",
       "      <td>0</td>\n",
       "      <td>0</td>\n",
       "      <td>0</td>\n",
       "      <td>0</td>\n",
       "      <td>0</td>\n",
       "      <td>0</td>\n",
       "      <td>0</td>\n",
       "    </tr>\n",
       "    <tr>\n",
       "      <th>369</th>\n",
       "      <td>ad.</td>\n",
       "      <td>400.000000</td>\n",
       "      <td>10.000000</td>\n",
       "      <td>1.0</td>\n",
       "      <td>0</td>\n",
       "      <td>0</td>\n",
       "      <td>0</td>\n",
       "      <td>0</td>\n",
       "      <td>0</td>\n",
       "      <td>0</td>\n",
       "      <td>...</td>\n",
       "      <td>0</td>\n",
       "      <td>0</td>\n",
       "      <td>0</td>\n",
       "      <td>0</td>\n",
       "      <td>0</td>\n",
       "      <td>0</td>\n",
       "      <td>0</td>\n",
       "      <td>0</td>\n",
       "      <td>0</td>\n",
       "      <td>0</td>\n",
       "    </tr>\n",
       "    <tr>\n",
       "      <th>1211</th>\n",
       "      <td>nonad.</td>\n",
       "      <td>88.000000</td>\n",
       "      <td>2.838700</td>\n",
       "      <td>0.0</td>\n",
       "      <td>0</td>\n",
       "      <td>0</td>\n",
       "      <td>0</td>\n",
       "      <td>0</td>\n",
       "      <td>0</td>\n",
       "      <td>0</td>\n",
       "      <td>...</td>\n",
       "      <td>0</td>\n",
       "      <td>0</td>\n",
       "      <td>0</td>\n",
       "      <td>0</td>\n",
       "      <td>0</td>\n",
       "      <td>0</td>\n",
       "      <td>0</td>\n",
       "      <td>0</td>\n",
       "      <td>0</td>\n",
       "      <td>3</td>\n",
       "    </tr>\n",
       "    <tr>\n",
       "      <th>437</th>\n",
       "      <td>ad.</td>\n",
       "      <td>155.344828</td>\n",
       "      <td>3.911953</td>\n",
       "      <td>1.0</td>\n",
       "      <td>0</td>\n",
       "      <td>0</td>\n",
       "      <td>0</td>\n",
       "      <td>0</td>\n",
       "      <td>0</td>\n",
       "      <td>0</td>\n",
       "      <td>...</td>\n",
       "      <td>0</td>\n",
       "      <td>0</td>\n",
       "      <td>0</td>\n",
       "      <td>1</td>\n",
       "      <td>0</td>\n",
       "      <td>0</td>\n",
       "      <td>0</td>\n",
       "      <td>0</td>\n",
       "      <td>0</td>\n",
       "      <td>2</td>\n",
       "    </tr>\n",
       "    <tr>\n",
       "      <th>386</th>\n",
       "      <td>ad.</td>\n",
       "      <td>155.344828</td>\n",
       "      <td>3.911953</td>\n",
       "      <td>0.0</td>\n",
       "      <td>0</td>\n",
       "      <td>0</td>\n",
       "      <td>0</td>\n",
       "      <td>0</td>\n",
       "      <td>0</td>\n",
       "      <td>0</td>\n",
       "      <td>...</td>\n",
       "      <td>0</td>\n",
       "      <td>0</td>\n",
       "      <td>0</td>\n",
       "      <td>0</td>\n",
       "      <td>0</td>\n",
       "      <td>0</td>\n",
       "      <td>0</td>\n",
       "      <td>0</td>\n",
       "      <td>0</td>\n",
       "      <td>0</td>\n",
       "    </tr>\n",
       "    <tr>\n",
       "      <th>2916</th>\n",
       "      <td>nonad.</td>\n",
       "      <td>468.000000</td>\n",
       "      <td>7.800000</td>\n",
       "      <td>1.0</td>\n",
       "      <td>0</td>\n",
       "      <td>0</td>\n",
       "      <td>0</td>\n",
       "      <td>0</td>\n",
       "      <td>0</td>\n",
       "      <td>0</td>\n",
       "      <td>...</td>\n",
       "      <td>0</td>\n",
       "      <td>0</td>\n",
       "      <td>0</td>\n",
       "      <td>0</td>\n",
       "      <td>0</td>\n",
       "      <td>0</td>\n",
       "      <td>0</td>\n",
       "      <td>0</td>\n",
       "      <td>0</td>\n",
       "      <td>2</td>\n",
       "    </tr>\n",
       "    <tr>\n",
       "      <th>402</th>\n",
       "      <td>ad.</td>\n",
       "      <td>155.344828</td>\n",
       "      <td>3.911953</td>\n",
       "      <td>1.0</td>\n",
       "      <td>0</td>\n",
       "      <td>0</td>\n",
       "      <td>0</td>\n",
       "      <td>0</td>\n",
       "      <td>0</td>\n",
       "      <td>0</td>\n",
       "      <td>...</td>\n",
       "      <td>0</td>\n",
       "      <td>0</td>\n",
       "      <td>0</td>\n",
       "      <td>0</td>\n",
       "      <td>0</td>\n",
       "      <td>0</td>\n",
       "      <td>0</td>\n",
       "      <td>0</td>\n",
       "      <td>0</td>\n",
       "      <td>0</td>\n",
       "    </tr>\n",
       "  </tbody>\n",
       "</table>\n",
       "<p>13 rows × 1559 columns</p>\n",
       "</div>"
      ],
      "text/plain": [
       "       class       width     aratio  local  url*images+buttons  \\\n",
       "105      ad.   58.000000   2.900000    0.0                   0   \n",
       "372      ad.  400.000000  10.000000    0.0                   0   \n",
       "1009  nonad.  400.000000  20.000000    0.0                   0   \n",
       "377      ad.  345.000000   7.666600    1.0                   0   \n",
       "99       ad.   54.000000   0.729700    1.0                   0   \n",
       "492   nonad.   58.000000   1.160000    1.0                   0   \n",
       "100      ad.   96.000000   3.096700    0.0                   0   \n",
       "369      ad.  400.000000  10.000000    1.0                   0   \n",
       "1211  nonad.   88.000000   2.838700    0.0                   0   \n",
       "437      ad.  155.344828   3.911953    1.0                   0   \n",
       "386      ad.  155.344828   3.911953    0.0                   0   \n",
       "2916  nonad.  468.000000   7.800000    1.0                   0   \n",
       "402      ad.  155.344828   3.911953    1.0                   0   \n",
       "\n",
       "      url*likesbooks.com  url*www.slake.com  url*hydrogeologist  url*oso  \\\n",
       "105                    0                  0                   0        0   \n",
       "372                    0                  0                   0        0   \n",
       "1009                   0                  0                   0        0   \n",
       "377                    0                  0                   0        0   \n",
       "99                     0                  0                   0        0   \n",
       "492                    0                  0                   0        0   \n",
       "100                    0                  0                   0        0   \n",
       "369                    0                  0                   0        0   \n",
       "1211                   0                  0                   0        0   \n",
       "437                    0                  0                   0        0   \n",
       "386                    0                  0                   0        0   \n",
       "2916                   0                  0                   0        0   \n",
       "402                    0                  0                   0        0   \n",
       "\n",
       "      url*media  ...  caption*home  caption*my  caption*your  caption*in  \\\n",
       "105           0  ...             0           0             0           0   \n",
       "372           0  ...             0           0             0           0   \n",
       "1009          0  ...             0           0             0           0   \n",
       "377           0  ...             0           0             0           0   \n",
       "99            0  ...             0           0             0           0   \n",
       "492           0  ...             0           0             0           0   \n",
       "100           0  ...             0           0             0           0   \n",
       "369           0  ...             0           0             0           0   \n",
       "1211          0  ...             0           0             0           0   \n",
       "437           0  ...             0           0             0           1   \n",
       "386           0  ...             0           0             0           0   \n",
       "2916          0  ...             0           0             0           0   \n",
       "402           0  ...             0           0             0           0   \n",
       "\n",
       "      caption*bytes  caption*here  caption*click  caption*for  caption*you  \\\n",
       "105               0             0              0            0            0   \n",
       "372               0             0              0            0            0   \n",
       "1009              0             0              0            0            0   \n",
       "377               0             0              0            0            0   \n",
       "99                0             0              0            0            0   \n",
       "492               0             0              0            0            0   \n",
       "100               0             0              0            0            0   \n",
       "369               0             0              0            0            0   \n",
       "1211              0             0              0            0            0   \n",
       "437               0             0              0            0            0   \n",
       "386               0             0              0            0            0   \n",
       "2916              0             0              0            0            0   \n",
       "402               0             0              0            0            0   \n",
       "\n",
       "      num_ancurls  \n",
       "105             1  \n",
       "372             0  \n",
       "1009            4  \n",
       "377             0  \n",
       "99              0  \n",
       "492             3  \n",
       "100             0  \n",
       "369             0  \n",
       "1211            3  \n",
       "437             2  \n",
       "386             0  \n",
       "2916            2  \n",
       "402             0  \n",
       "\n",
       "[13 rows x 1559 columns]"
      ]
     },
     "execution_count": 39,
     "metadata": {},
     "output_type": "execute_result"
    }
   ],
   "source": [
    "# misclassified records\n",
    "pd.concat([y_dev[y_dev != predictions], X_dev[y_dev != predictions]], axis=1)"
   ]
  },
  {
   "cell_type": "code",
   "execution_count": 40,
   "metadata": {},
   "outputs": [
    {
     "data": {
      "text/html": [
       "<div>\n",
       "<style scoped>\n",
       "    .dataframe tbody tr th:only-of-type {\n",
       "        vertical-align: middle;\n",
       "    }\n",
       "\n",
       "    .dataframe tbody tr th {\n",
       "        vertical-align: top;\n",
       "    }\n",
       "\n",
       "    .dataframe thead th {\n",
       "        text-align: right;\n",
       "    }\n",
       "</style>\n",
       "<table border=\"1\" class=\"dataframe\">\n",
       "  <thead>\n",
       "    <tr style=\"text-align: right;\">\n",
       "      <th></th>\n",
       "      <th>class</th>\n",
       "      <th>width</th>\n",
       "      <th>aratio</th>\n",
       "      <th>num_ancurls</th>\n",
       "      <th>url*ads</th>\n",
       "      <th>url*ad</th>\n",
       "      <th>url*images+home</th>\n",
       "      <th>ancurl*com</th>\n",
       "      <th>ancurl*click</th>\n",
       "      <th>ancurl*http+www</th>\n",
       "      <th>alt*click+here</th>\n",
       "    </tr>\n",
       "  </thead>\n",
       "  <tbody>\n",
       "    <tr>\n",
       "      <th>105</th>\n",
       "      <td>ad.</td>\n",
       "      <td>58.000000</td>\n",
       "      <td>2.900000</td>\n",
       "      <td>1</td>\n",
       "      <td>0</td>\n",
       "      <td>0</td>\n",
       "      <td>0</td>\n",
       "      <td>0</td>\n",
       "      <td>0</td>\n",
       "      <td>0</td>\n",
       "      <td>0</td>\n",
       "    </tr>\n",
       "    <tr>\n",
       "      <th>372</th>\n",
       "      <td>ad.</td>\n",
       "      <td>400.000000</td>\n",
       "      <td>10.000000</td>\n",
       "      <td>0</td>\n",
       "      <td>0</td>\n",
       "      <td>0</td>\n",
       "      <td>0</td>\n",
       "      <td>0</td>\n",
       "      <td>0</td>\n",
       "      <td>0</td>\n",
       "      <td>0</td>\n",
       "    </tr>\n",
       "    <tr>\n",
       "      <th>1009</th>\n",
       "      <td>nonad.</td>\n",
       "      <td>400.000000</td>\n",
       "      <td>20.000000</td>\n",
       "      <td>4</td>\n",
       "      <td>0</td>\n",
       "      <td>0</td>\n",
       "      <td>0</td>\n",
       "      <td>1</td>\n",
       "      <td>0</td>\n",
       "      <td>0</td>\n",
       "      <td>0</td>\n",
       "    </tr>\n",
       "    <tr>\n",
       "      <th>377</th>\n",
       "      <td>ad.</td>\n",
       "      <td>345.000000</td>\n",
       "      <td>7.666600</td>\n",
       "      <td>0</td>\n",
       "      <td>0</td>\n",
       "      <td>0</td>\n",
       "      <td>0</td>\n",
       "      <td>0</td>\n",
       "      <td>0</td>\n",
       "      <td>0</td>\n",
       "      <td>0</td>\n",
       "    </tr>\n",
       "    <tr>\n",
       "      <th>99</th>\n",
       "      <td>ad.</td>\n",
       "      <td>54.000000</td>\n",
       "      <td>0.729700</td>\n",
       "      <td>0</td>\n",
       "      <td>0</td>\n",
       "      <td>0</td>\n",
       "      <td>0</td>\n",
       "      <td>0</td>\n",
       "      <td>0</td>\n",
       "      <td>0</td>\n",
       "      <td>0</td>\n",
       "    </tr>\n",
       "    <tr>\n",
       "      <th>492</th>\n",
       "      <td>nonad.</td>\n",
       "      <td>58.000000</td>\n",
       "      <td>1.160000</td>\n",
       "      <td>3</td>\n",
       "      <td>0</td>\n",
       "      <td>0</td>\n",
       "      <td>0</td>\n",
       "      <td>0</td>\n",
       "      <td>0</td>\n",
       "      <td>0</td>\n",
       "      <td>0</td>\n",
       "    </tr>\n",
       "    <tr>\n",
       "      <th>100</th>\n",
       "      <td>ad.</td>\n",
       "      <td>96.000000</td>\n",
       "      <td>3.096700</td>\n",
       "      <td>0</td>\n",
       "      <td>0</td>\n",
       "      <td>0</td>\n",
       "      <td>0</td>\n",
       "      <td>0</td>\n",
       "      <td>0</td>\n",
       "      <td>0</td>\n",
       "      <td>0</td>\n",
       "    </tr>\n",
       "    <tr>\n",
       "      <th>369</th>\n",
       "      <td>ad.</td>\n",
       "      <td>400.000000</td>\n",
       "      <td>10.000000</td>\n",
       "      <td>0</td>\n",
       "      <td>0</td>\n",
       "      <td>0</td>\n",
       "      <td>0</td>\n",
       "      <td>0</td>\n",
       "      <td>0</td>\n",
       "      <td>0</td>\n",
       "      <td>0</td>\n",
       "    </tr>\n",
       "    <tr>\n",
       "      <th>1211</th>\n",
       "      <td>nonad.</td>\n",
       "      <td>88.000000</td>\n",
       "      <td>2.838700</td>\n",
       "      <td>3</td>\n",
       "      <td>0</td>\n",
       "      <td>0</td>\n",
       "      <td>0</td>\n",
       "      <td>0</td>\n",
       "      <td>0</td>\n",
       "      <td>0</td>\n",
       "      <td>0</td>\n",
       "    </tr>\n",
       "    <tr>\n",
       "      <th>437</th>\n",
       "      <td>ad.</td>\n",
       "      <td>155.344828</td>\n",
       "      <td>3.911953</td>\n",
       "      <td>2</td>\n",
       "      <td>0</td>\n",
       "      <td>0</td>\n",
       "      <td>0</td>\n",
       "      <td>0</td>\n",
       "      <td>0</td>\n",
       "      <td>0</td>\n",
       "      <td>0</td>\n",
       "    </tr>\n",
       "    <tr>\n",
       "      <th>386</th>\n",
       "      <td>ad.</td>\n",
       "      <td>155.344828</td>\n",
       "      <td>3.911953</td>\n",
       "      <td>0</td>\n",
       "      <td>0</td>\n",
       "      <td>0</td>\n",
       "      <td>0</td>\n",
       "      <td>0</td>\n",
       "      <td>0</td>\n",
       "      <td>0</td>\n",
       "      <td>0</td>\n",
       "    </tr>\n",
       "    <tr>\n",
       "      <th>2916</th>\n",
       "      <td>nonad.</td>\n",
       "      <td>468.000000</td>\n",
       "      <td>7.800000</td>\n",
       "      <td>2</td>\n",
       "      <td>0</td>\n",
       "      <td>0</td>\n",
       "      <td>0</td>\n",
       "      <td>0</td>\n",
       "      <td>0</td>\n",
       "      <td>0</td>\n",
       "      <td>0</td>\n",
       "    </tr>\n",
       "    <tr>\n",
       "      <th>402</th>\n",
       "      <td>ad.</td>\n",
       "      <td>155.344828</td>\n",
       "      <td>3.911953</td>\n",
       "      <td>0</td>\n",
       "      <td>0</td>\n",
       "      <td>0</td>\n",
       "      <td>0</td>\n",
       "      <td>0</td>\n",
       "      <td>0</td>\n",
       "      <td>0</td>\n",
       "      <td>0</td>\n",
       "    </tr>\n",
       "  </tbody>\n",
       "</table>\n",
       "</div>"
      ],
      "text/plain": [
       "       class       width     aratio  num_ancurls  url*ads  url*ad  \\\n",
       "105      ad.   58.000000   2.900000            1        0       0   \n",
       "372      ad.  400.000000  10.000000            0        0       0   \n",
       "1009  nonad.  400.000000  20.000000            4        0       0   \n",
       "377      ad.  345.000000   7.666600            0        0       0   \n",
       "99       ad.   54.000000   0.729700            0        0       0   \n",
       "492   nonad.   58.000000   1.160000            3        0       0   \n",
       "100      ad.   96.000000   3.096700            0        0       0   \n",
       "369      ad.  400.000000  10.000000            0        0       0   \n",
       "1211  nonad.   88.000000   2.838700            3        0       0   \n",
       "437      ad.  155.344828   3.911953            2        0       0   \n",
       "386      ad.  155.344828   3.911953            0        0       0   \n",
       "2916  nonad.  468.000000   7.800000            2        0       0   \n",
       "402      ad.  155.344828   3.911953            0        0       0   \n",
       "\n",
       "      url*images+home  ancurl*com  ancurl*click  ancurl*http+www  \\\n",
       "105                 0           0             0                0   \n",
       "372                 0           0             0                0   \n",
       "1009                0           1             0                0   \n",
       "377                 0           0             0                0   \n",
       "99                  0           0             0                0   \n",
       "492                 0           0             0                0   \n",
       "100                 0           0             0                0   \n",
       "369                 0           0             0                0   \n",
       "1211                0           0             0                0   \n",
       "437                 0           0             0                0   \n",
       "386                 0           0             0                0   \n",
       "2916                0           0             0                0   \n",
       "402                 0           0             0                0   \n",
       "\n",
       "      alt*click+here  \n",
       "105                0  \n",
       "372                0  \n",
       "1009               0  \n",
       "377                0  \n",
       "99                 0  \n",
       "492                0  \n",
       "100                0  \n",
       "369                0  \n",
       "1211               0  \n",
       "437                0  \n",
       "386                0  \n",
       "2916               0  \n",
       "402                0  "
      ]
     },
     "execution_count": 40,
     "metadata": {},
     "output_type": "execute_result"
    }
   ],
   "source": [
    "# look at the most important features for the misclassified observations\n",
    "pd.concat([y_dev[y_dev != predictions], X_dev[y_dev != predictions]], axis=1)[[\"class\", \n",
    "                                                                               \"width\", \n",
    "                                                                               \"aratio\", \n",
    "                                                                               \"num_ancurls\",\n",
    "                                                                               \"url*ads\",\n",
    "                                                                               \"url*ad\",\n",
    "                                                                               \"url*images+home\",\n",
    "                                                                               \"ancurl*com\",\n",
    "                                                                               \"ancurl*click\",\n",
    "                                                                               \"ancurl*http+www\",\n",
    "                                                                               \"alt*click+here\"]]"
   ]
  },
  {
   "cell_type": "markdown",
   "metadata": {},
   "source": [
    "#### Final Optimized Models\n",
    "\n",
    "By utilizing the dev set, we optimized parameters using `GridSearchCV` for all the models above. Here below is the finalized models with the best parameter reported."
   ]
  },
  {
   "cell_type": "code",
   "execution_count": 41,
   "metadata": {},
   "outputs": [],
   "source": [
    "# Final Optimized Models\n",
    "knn_opt = KNeighborsClassifier(n_neighbors = 1, p = 1, weights = \"uniform\")\n",
    "svm_opt = SVC(C = 1000)\n",
    "lr_opt = LogisticRegression(penalty=\"l2\", solver = \"liblinear\", C = 10)\n",
    "bnb_opt = BernoulliNB(alpha = 0.01)\n",
    "mnb_opt = MultinomialNB(alpha = 0.5)\n",
    "dt_opt = DecisionTreeClassifier(max_depth = 1000, max_features = 'sqrt', min_samples_leaf = 1, min_samples_split = 2)\n",
    "rf_opt = RandomForestClassifier(max_depth = 1000, min_samples_leaf = 1, n_estimators = 35, n_jobs=-1)\n",
    "bt_opt = BaggingClassifier(n_estimators = 15)"
   ]
  },
  {
   "cell_type": "markdown",
   "metadata": {},
   "source": [
    "### Model Evaluation"
   ]
  },
  {
   "cell_type": "markdown",
   "metadata": {},
   "source": [
    "To evaluate models we use Holdout and K-Fold Cross-Validation. Holdout is useful because of its speed, simplicity and flexibility; however it is often associated with high variability since differences in the training and test set can result in meaninful difference in the estimate of accuracy; that's why we would also implement Cross-Validation and compare the results."
   ]
  },
  {
   "cell_type": "markdown",
   "metadata": {},
   "source": [
    "#### Holdout"
   ]
  },
  {
   "cell_type": "code",
   "execution_count": 42,
   "metadata": {},
   "outputs": [
    {
     "name": "stdout",
     "output_type": "stream",
     "text": [
      "  Model   Accuracy\n",
      "6    RF  98.780488\n",
      "7    BT  98.323171\n",
      "2    LR  97.560976\n",
      "3   BNB  97.560976\n",
      "0   KNN  97.256098\n",
      "1   SVC  96.798780\n",
      "4   MNB  96.341463\n",
      "5    DT  95.731707\n"
     ]
    },
    {
     "data": {
      "image/png": "[encoded data removed]",
      "text/plain": [
       "<Figure size 432x288 with 1 Axes>"
      ]
     },
     "metadata": {
      "needs_background": "light"
     },
     "output_type": "display_data"
    }
   ],
   "source": [
    "models = [['KNN', knn_opt],\n",
    "          ['SVC', svm_opt],\n",
    "          ['LR', lr_opt],\n",
    "          ['BNB', bnb_opt],\n",
    "          ['MNB', mnb_opt],\n",
    "          ['DT',dt_opt],\n",
    "          ['RF',rf_opt],\n",
    "          ['BT', bt_opt]] \n",
    "\n",
    "table = []\n",
    "for name, model in models:\n",
    "    clf = model\n",
    "    clf.fit(X_train, y_train)\n",
    "    accuracy = clf.score(X_test, y_test)\n",
    "    table.append((name,100*accuracy))\n",
    "    \n",
    "df = pd.DataFrame(table, columns =['Model', 'Accuracy'])\n",
    "plot = df.plot.bar(x='Model', y='Accuracy', rot=0, legend = None)\n",
    "df = df.sort_values(by=['Accuracy'],ascending=False)\n",
    "print(df)\n",
    "        "
   ]
  },
  {
   "cell_type": "markdown",
   "metadata": {},
   "source": [
    "After using Holdout, the models that returned the highest accuracy were Random Forest, Bagged Tree and Logistic Regression."
   ]
  },
  {
   "cell_type": "markdown",
   "metadata": {},
   "source": [
    "#### Cross-Validation (K-Fold)"
   ]
  },
  {
   "cell_type": "code",
   "execution_count": 43,
   "metadata": {},
   "outputs": [
    {
     "name": "stdout",
     "output_type": "stream",
     "text": [
      "  Model   Accuracy\n",
      "3   BNB  95.426643\n",
      "7    BT  95.273924\n",
      "6    RF  93.993623\n",
      "4   MNB  93.871299\n",
      "1   SVC  93.413422\n",
      "2    LR  93.200753\n",
      "5    DT  92.286212\n",
      "0   KNN  91.615108\n"
     ]
    },
    {
     "data": {
      "image/png": "[encoded data removed]",
      "text/plain": [
       "<Figure size 432x288 with 1 Axes>"
      ]
     },
     "metadata": {
      "needs_background": "light"
     },
     "output_type": "display_data"
    }
   ],
   "source": [
    "seed = 7\n",
    "models = [['KNN', knn_opt],\n",
    "          ['SVC', svm_opt],\n",
    "          ['LR', lr_opt],\n",
    "          ['BNB', bnb_opt],\n",
    "          ['MNB', mnb_opt],\n",
    "          ['DT',dt_opt],\n",
    "          ['RF',rf_opt],\n",
    "          ['BT', bt_opt]] \n",
    "\n",
    "table = []\n",
    "for name, model in models:\n",
    "    kfold = model_selection.KFold(n_splits = 10, random_state = seed)\n",
    "    clf = model\n",
    "    accuracy = model_selection.cross_val_score(clf, X, y, cv = kfold, scoring = 'accuracy')\n",
    "    table.append((name,100*(accuracy.mean())))\n",
    "    \n",
    "df = pd.DataFrame(table, columns =['Model', 'Accuracy'])\n",
    "plot = df.plot.bar(x='Model', y='Accuracy', rot=0, legend = None)\n",
    "df = df.sort_values(by=['Accuracy'],ascending=False)\n",
    "print(df)"
   ]
  },
  {
   "cell_type": "markdown",
   "metadata": {},
   "source": [
    "With K-fold, the accuracies were lower overall and the models that returned the highest accuracy were Bernoulli Naive Bayes, Bagged Tree and Random Forest."
   ]
  },
  {
   "cell_type": "markdown",
   "metadata": {},
   "source": [
    "## Summary"
   ]
  },
  {
   "cell_type": "markdown",
   "metadata": {},
   "source": [
    "The goal of this project is to develop a model that can be effective at classifying Internet images as ad or non-ad given a series of attributes. The dataset we used contains 3,279 data points and 1,559 features where 2,820 are labeled as non-ads and 459 are ads. After conducting data analysis on the continuous and categorical variables in the data, we found that variable `width` and the number of anchor urls a particular image has are strongly correlated to an image being ad. Discoveries such as this one helped us to enhance the set of features we then used for model building.\n",
    "\n",
    "Several algorithms were examined to solve this classification problem. In particular, we built models using K-Nearest Neighbors, Support Vector Machine, Logistic Regression, Bernoulli Naive Bayes, Multinomial Naive Bayes, Decision Tree, Random Forest, and Bagged Tree. Each model was optimized through hyperparameter tunning using `GridSearchCV`. The finalized models were then evaluated aginst each other. Both Holdout and K-fold validation methods were used to decide which of the models we built performs the best. Random Forest yielded the highest accuracy against our test dataset while Bernoulli Naive Bayes performed the best in K-fold. Bagged Tree model is the one that had the second highest accuracies in both validation methods. Hence, overall we would pick the Bagged Tree model as the final classifier.\n",
    "\n",
    "Even though we achieved over 90% accuracies with our models, there are still many aspects we could improve upon. For instance, we could have more aggressively selected the set of features used. Our data analysis step helped us to figure out what other composition features may be needed. But at the same time, it also revealed features that may not be very useful in determining ads. For example, very few data points have any caption at all. For simplicity of the model we could have dropped unaffecting variables early on. Additionally, we could have analyzed the misclassified cases further to see if we can find any patterns or reasons to why certain images are not correctly identified. \n",
    "\n",
    "Despite these imperfections, we were successful at developing an effective classifier model for internet images. The final optimized Bagged Tree model could be used both in web and potentially in mail and messaging clients as well to block unwanted advertisement and promote a better browsing experience."
   ]
  },
  {
   "cell_type": "markdown",
   "metadata": {},
   "source": [
    "### Contributions"
   ]
  },
  {
   "cell_type": "markdown",
   "metadata": {},
   "source": [
    "Kudos to everyone on the team for collaborating so wonderfully on this project! Here is a short breakdown of individual contributions to the project.\n",
    "\n",
    "Maria:\n",
    "- dataset pitching\n",
    "- data cleaning and EDA for the label and continuous features in the chosen dataset\n",
    "- model evaluations and comparisons\n",
    "\n",
    "Dean:\n",
    "- dataset pitching\n",
    "- model building and optimization\n",
    "\n",
    "Angel:\n",
    "- dataset pitching\n",
    "- EDA for categorical features in the chosen dataset\n",
    "- model optimization\n",
    "- overall notebook structure, section transition, introduction and summary"
   ]
  }
 ],
 "metadata": {
  "kernelspec": {
   "display_name": "Python 3",
   "language": "python",
   "name": "python3"
  },
  "language_info": {
   "codemirror_mode": {
    "name": "ipython",
    "version": 3
   },
   "file_extension": ".py",
   "mimetype": "text/x-python",
   "name": "python",
   "nbconvert_exporter": "python",
   "pygments_lexer": "ipython3",
   "version": "3.6.5"
  }
 },
 "nbformat": 4,
 "nbformat_minor": 2
}
